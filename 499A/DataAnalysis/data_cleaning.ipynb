{
 "cells": [
  {
   "cell_type": "code",
   "execution_count": 1,
   "metadata": {},
   "outputs": [],
   "source": [
    "import pandas as pd\n",
    "import re"
   ]
  },
  {
   "cell_type": "code",
   "execution_count": 2,
   "metadata": {},
   "outputs": [],
   "source": [
    "df = pd.read_csv(\"data.csv\")"
   ]
  },
  {
   "cell_type": "code",
   "execution_count": 3,
   "metadata": {},
   "outputs": [
    {
     "data": {
      "text/plain": [
       "(192514, 2)"
      ]
     },
     "execution_count": 3,
     "metadata": {},
     "output_type": "execute_result"
    }
   ],
   "source": [
    "df.shape"
   ]
  },
  {
   "cell_type": "code",
   "execution_count": 4,
   "metadata": {},
   "outputs": [
    {
     "data": {
      "text/html": [
       "<div>\n",
       "<style scoped>\n",
       "    .dataframe tbody tr th:only-of-type {\n",
       "        vertical-align: middle;\n",
       "    }\n",
       "\n",
       "    .dataframe tbody tr th {\n",
       "        vertical-align: top;\n",
       "    }\n",
       "\n",
       "    .dataframe thead th {\n",
       "        text-align: right;\n",
       "    }\n",
       "</style>\n",
       "<table border=\"1\" class=\"dataframe\">\n",
       "  <thead>\n",
       "    <tr style=\"text-align: right;\">\n",
       "      <th></th>\n",
       "      <th>type</th>\n",
       "      <th>content</th>\n",
       "    </tr>\n",
       "  </thead>\n",
       "  <tbody>\n",
       "    <tr>\n",
       "      <th>0</th>\n",
       "      <td>h2</td>\n",
       "      <td>Page 1</td>\n",
       "    </tr>\n",
       "    <tr>\n",
       "      <th>1</th>\n",
       "      <td>h2</td>\n",
       "      <td>Page 2</td>\n",
       "    </tr>\n",
       "    <tr>\n",
       "      <th>2</th>\n",
       "      <td>p</td>\n",
       "      <td>7 (, | /</td>\n",
       "    </tr>\n",
       "    <tr>\n",
       "      <th>3</th>\n",
       "      <td>h2</td>\n",
       "      <td>Page 3</td>\n",
       "    </tr>\n",
       "    <tr>\n",
       "      <th>4</th>\n",
       "      <td>h2</td>\n",
       "      <td>Page 4</td>\n",
       "    </tr>\n",
       "  </tbody>\n",
       "</table>\n",
       "</div>"
      ],
      "text/plain": [
       "  type   content\n",
       "0   h2    Page 1\n",
       "1   h2    Page 2\n",
       "2    p  7 (, | /\n",
       "3   h2    Page 3\n",
       "4   h2    Page 4"
      ]
     },
     "execution_count": 4,
     "metadata": {},
     "output_type": "execute_result"
    }
   ],
   "source": [
    "df.head()"
   ]
  },
  {
   "cell_type": "code",
   "execution_count": 5,
   "metadata": {},
   "outputs": [],
   "source": [
    "bengali_pattern = r'[\\u0980-\\u09FF]'"
   ]
  },
  {
   "cell_type": "code",
   "execution_count": 6,
   "metadata": {},
   "outputs": [],
   "source": [
    "columns_to_check = ['content']"
   ]
  },
  {
   "cell_type": "code",
   "execution_count": 7,
   "metadata": {},
   "outputs": [],
   "source": [
    "row_has_bengali = df[columns_to_check].apply(\n",
    "    lambda row: any(bool(re.search(bengali_pattern, str(cell))) for cell in row), axis=1\n",
    ")"
   ]
  },
  {
   "cell_type": "code",
   "execution_count": 8,
   "metadata": {},
   "outputs": [],
   "source": [
    "df = df[row_has_bengali]"
   ]
  },
  {
   "cell_type": "code",
   "execution_count": 9,
   "metadata": {},
   "outputs": [
    {
     "data": {
      "text/plain": [
       "(166994, 2)"
      ]
     },
     "execution_count": 9,
     "metadata": {},
     "output_type": "execute_result"
    }
   ],
   "source": [
    "df.shape"
   ]
  },
  {
   "cell_type": "code",
   "execution_count": 10,
   "metadata": {},
   "outputs": [
    {
     "name": "stdout",
     "output_type": "stream",
     "text": [
      "       type                                            content\n",
      "5         p                                      ঢাকার ইতিহাস।\n",
      "6         p  ভিভীক্স শব?\\n( প্রাচীনকাল হইতে মোসলমানাগমনের প...\n",
      "7         p                                              ৫৯০৫১\n",
      "8         p                     স্রীযতীন্দ্র মোহন রায় প্রণীত।\n",
      "9         p                                                  ৩\n",
      "...     ...                                                ...\n",
      "192509    p                                          অনুসন্ধান\n",
      "192510    p                                  সূচিপত্র টগল করুন\n",
      "192511    p                     ২০১৮-র নিরাপদ সড়ক চাই আন্দোলন\n",
      "192512    p                                           ৮টি ভাষা\n",
      "192513    p                                    আলোচনা যোগ করুন\n",
      "\n",
      "[166994 rows x 2 columns]\n"
     ]
    }
   ],
   "source": [
    "print(df)"
   ]
  },
  {
   "cell_type": "code",
   "execution_count": 11,
   "metadata": {},
   "outputs": [],
   "source": [
    "df = df[['type','content']]"
   ]
  },
  {
   "cell_type": "code",
   "execution_count": 12,
   "metadata": {},
   "outputs": [
    {
     "name": "stdout",
     "output_type": "stream",
     "text": [
      "       type                                            content\n",
      "5         p                                      ঢাকার ইতিহাস।\n",
      "6         p  ভিভীক্স শব?\\n( প্রাচীনকাল হইতে মোসলমানাগমনের প...\n",
      "7         p                                              ৫৯০৫১\n",
      "8         p                     স্রীযতীন্দ্র মোহন রায় প্রণীত।\n",
      "9         p                                                  ৩\n",
      "...     ...                                                ...\n",
      "192509    p                                          অনুসন্ধান\n",
      "192510    p                                  সূচিপত্র টগল করুন\n",
      "192511    p                     ২০১৮-র নিরাপদ সড়ক চাই আন্দোলন\n",
      "192512    p                                           ৮টি ভাষা\n",
      "192513    p                                    আলোচনা যোগ করুন\n",
      "\n",
      "[166994 rows x 2 columns]\n"
     ]
    }
   ],
   "source": [
    "print(df)"
   ]
  },
  {
   "cell_type": "code",
   "execution_count": null,
   "metadata": {},
   "outputs": [],
   "source": [
    "rows_with_nan = df[df.isna().any(axis=1)]"
   ]
  },
  {
   "cell_type": "code",
   "execution_count": 14,
   "metadata": {},
   "outputs": [
    {
     "data": {
      "text/html": [
       "<div>\n",
       "<style scoped>\n",
       "    .dataframe tbody tr th:only-of-type {\n",
       "        vertical-align: middle;\n",
       "    }\n",
       "\n",
       "    .dataframe tbody tr th {\n",
       "        vertical-align: top;\n",
       "    }\n",
       "\n",
       "    .dataframe thead th {\n",
       "        text-align: right;\n",
       "    }\n",
       "</style>\n",
       "<table border=\"1\" class=\"dataframe\">\n",
       "  <thead>\n",
       "    <tr style=\"text-align: right;\">\n",
       "      <th></th>\n",
       "      <th>type</th>\n",
       "      <th>content</th>\n",
       "    </tr>\n",
       "  </thead>\n",
       "  <tbody>\n",
       "  </tbody>\n",
       "</table>\n",
       "</div>"
      ],
      "text/plain": [
       "Empty DataFrame\n",
       "Columns: [type, content]\n",
       "Index: []"
      ]
     },
     "execution_count": 14,
     "metadata": {},
     "output_type": "execute_result"
    }
   ],
   "source": [
    "rows_with_nan"
   ]
  },
  {
   "cell_type": "code",
   "execution_count": 15,
   "metadata": {},
   "outputs": [],
   "source": [
    "df = df.dropna()"
   ]
  },
  {
   "cell_type": "code",
   "execution_count": 16,
   "metadata": {},
   "outputs": [
    {
     "name": "stdout",
     "output_type": "stream",
     "text": [
      "       type                                            content\n",
      "5         p                                      ঢাকার ইতিহাস।\n",
      "6         p  ভিভীক্স শব?\\n( প্রাচীনকাল হইতে মোসলমানাগমনের প...\n",
      "7         p                                              ৫৯০৫১\n",
      "8         p                     স্রীযতীন্দ্র মোহন রায় প্রণীত।\n",
      "9         p                                                  ৩\n",
      "...     ...                                                ...\n",
      "192509    p                                          অনুসন্ধান\n",
      "192510    p                                  সূচিপত্র টগল করুন\n",
      "192511    p                     ২০১৮-র নিরাপদ সড়ক চাই আন্দোলন\n",
      "192512    p                                           ৮টি ভাষা\n",
      "192513    p                                    আলোচনা যোগ করুন\n",
      "\n",
      "[166994 rows x 2 columns]\n"
     ]
    }
   ],
   "source": [
    "print(df)"
   ]
  },
  {
   "cell_type": "code",
   "execution_count": 17,
   "metadata": {},
   "outputs": [],
   "source": [
    "cleaned_dataset_path = 'cleaned_dataset.csv'"
   ]
  },
  {
   "cell_type": "code",
   "execution_count": 18,
   "metadata": {},
   "outputs": [],
   "source": [
    "df.to_csv(cleaned_dataset_path, index=False)"
   ]
  },
  {
   "cell_type": "code",
   "execution_count": 19,
   "metadata": {},
   "outputs": [
    {
     "data": {
      "text/plain": [
       "(166994, 2)"
      ]
     },
     "execution_count": 19,
     "metadata": {},
     "output_type": "execute_result"
    }
   ],
   "source": [
    "df.shape"
   ]
  },
  {
   "cell_type": "code",
   "execution_count": 20,
   "metadata": {},
   "outputs": [
    {
     "data": {
      "text/plain": [
       "20860"
      ]
     },
     "execution_count": 20,
     "metadata": {},
     "output_type": "execute_result"
    }
   ],
   "source": [
    "df.duplicated().sum()"
   ]
  },
  {
   "cell_type": "code",
   "execution_count": 21,
   "metadata": {},
   "outputs": [],
   "source": [
    "dup = df.duplicated()"
   ]
  },
  {
   "cell_type": "code",
   "execution_count": 22,
   "metadata": {},
   "outputs": [
    {
     "data": {
      "text/plain": [
       "5     False\n",
       "6     False\n",
       "7     False\n",
       "8     False\n",
       "9     False\n",
       "10    False\n",
       "11    False\n",
       "14    False\n",
       "15    False\n",
       "16    False\n",
       "18    False\n",
       "19    False\n",
       "20    False\n",
       "21    False\n",
       "22    False\n",
       "23    False\n",
       "24    False\n",
       "25    False\n",
       "26    False\n",
       "27    False\n",
       "28    False\n",
       "30    False\n",
       "32    False\n",
       "33    False\n",
       "35    False\n",
       "36    False\n",
       "37    False\n",
       "38    False\n",
       "39    False\n",
       "42    False\n",
       "43    False\n",
       "44    False\n",
       "45    False\n",
       "47    False\n",
       "48    False\n",
       "49    False\n",
       "51    False\n",
       "52    False\n",
       "53    False\n",
       "54    False\n",
       "55    False\n",
       "57    False\n",
       "58    False\n",
       "59    False\n",
       "60    False\n",
       "61    False\n",
       "63    False\n",
       "64    False\n",
       "65    False\n",
       "66    False\n",
       "67    False\n",
       "69    False\n",
       "70    False\n",
       "71    False\n",
       "72    False\n",
       "73    False\n",
       "74    False\n",
       "75    False\n",
       "76    False\n",
       "78    False\n",
       "dtype: bool"
      ]
     },
     "execution_count": 22,
     "metadata": {},
     "output_type": "execute_result"
    }
   ],
   "source": [
    "dup.head(60)"
   ]
  },
  {
   "cell_type": "code",
   "execution_count": 23,
   "metadata": {},
   "outputs": [],
   "source": [
    "data=df.drop_duplicates()"
   ]
  },
  {
   "cell_type": "code",
   "execution_count": 24,
   "metadata": {},
   "outputs": [
    {
     "name": "stdout",
     "output_type": "stream",
     "text": [
      "(146134, 2)\n",
      "(166994, 2)\n"
     ]
    }
   ],
   "source": [
    "print(data.shape)\n",
    "print(df.shape)"
   ]
  },
  {
   "cell_type": "code",
   "execution_count": 25,
   "metadata": {},
   "outputs": [
    {
     "data": {
      "text/html": [
       "<div>\n",
       "<style scoped>\n",
       "    .dataframe tbody tr th:only-of-type {\n",
       "        vertical-align: middle;\n",
       "    }\n",
       "\n",
       "    .dataframe tbody tr th {\n",
       "        vertical-align: top;\n",
       "    }\n",
       "\n",
       "    .dataframe thead th {\n",
       "        text-align: right;\n",
       "    }\n",
       "</style>\n",
       "<table border=\"1\" class=\"dataframe\">\n",
       "  <thead>\n",
       "    <tr style=\"text-align: right;\">\n",
       "      <th></th>\n",
       "      <th>type</th>\n",
       "      <th>content</th>\n",
       "    </tr>\n",
       "  </thead>\n",
       "  <tbody>\n",
       "    <tr>\n",
       "      <th>5</th>\n",
       "      <td>p</td>\n",
       "      <td>ঢাকার ইতিহাস।</td>\n",
       "    </tr>\n",
       "    <tr>\n",
       "      <th>6</th>\n",
       "      <td>p</td>\n",
       "      <td>ভিভীক্স শব?\\n( প্রাচীনকাল হইতে মোসলমানাগমনের প...</td>\n",
       "    </tr>\n",
       "    <tr>\n",
       "      <th>7</th>\n",
       "      <td>p</td>\n",
       "      <td>৫৯০৫১</td>\n",
       "    </tr>\n",
       "    <tr>\n",
       "      <th>8</th>\n",
       "      <td>p</td>\n",
       "      <td>স্রীযতীন্দ্র মোহন রায় প্রণীত।</td>\n",
       "    </tr>\n",
       "    <tr>\n",
       "      <th>9</th>\n",
       "      <td>p</td>\n",
       "      <td>৩</td>\n",
       "    </tr>\n",
       "    <tr>\n",
       "      <th>10</th>\n",
       "      <td>p</td>\n",
       "      <td>__কলিকাতাঁ_\\n২৯৭ নং আগার চিৎপুর রোড হইতে\\nশ্রী...</td>\n",
       "    </tr>\n",
       "    <tr>\n",
       "      <th>11</th>\n",
       "      <td>p</td>\n",
       "      <td>১৩২২ বঙ্গাব ।\\n্রন্থকার়ের সর্বস্বত্ব সংরক্ষিত...</td>\n",
       "    </tr>\n",
       "    <tr>\n",
       "      <th>14</th>\n",
       "      <td>p</td>\n",
       "      <td>প্রীপ্তিস্থান:২-\\n১। চাকা, কামার নগর, জজকোর্টে...</td>\n",
       "    </tr>\n",
       "    <tr>\n",
       "      <th>15</th>\n",
       "      <td>p</td>\n",
       "      <td>শ্রীযুক্ত রজনীকান্ত গুপ্ত মহাশয়ের বাসায়\\nপ্র...</td>\n",
       "    </tr>\n",
       "    <tr>\n",
       "      <th>16</th>\n",
       "      <td>p</td>\n",
       "      <td>৬৫ নং কলেজ ্টাট, কলিকাত|।</td>\n",
       "    </tr>\n",
       "    <tr>\n",
       "      <th>18</th>\n",
       "      <td>p</td>\n",
       "      <td>ূ</td>\n",
       "    </tr>\n",
       "    <tr>\n",
       "      <th>19</th>\n",
       "      <td>p</td>\n",
       "      <td>উস্ত্পগ্গা ?</td>\n",
       "    </tr>\n",
       "    <tr>\n",
       "      <th>20</th>\n",
       "      <td>p</td>\n",
       "      <td>০১০৯</td>\n",
       "    </tr>\n",
       "    <tr>\n",
       "      <th>21</th>\n",
       "      <td>p</td>\n",
       "      <td>পরম পুজনীয় জ্ঞেষ্ঠতাঁত\\nস্বর্গীয় ব্র্মোহন রায়</td>\n",
       "    </tr>\n",
       "    <tr>\n",
       "      <th>22</th>\n",
       "      <td>ul</td>\n",
       "      <td>৩.\\nপরমারাধ্যা ধাত্রীমাতা</td>\n",
       "    </tr>\n",
       "    <tr>\n",
       "      <th>23</th>\n",
       "      <td>li</td>\n",
       "      <td>৩.\\nপরমারাধ্যা ধাত্রীমাতা</td>\n",
       "    </tr>\n",
       "    <tr>\n",
       "      <th>24</th>\n",
       "      <td>p</td>\n",
       "      <td>্বর্গায়া বিদ্যাদাসীর\\nপুণ্য নামে\\nভক্তি সহকার...</td>\n",
       "    </tr>\n",
       "    <tr>\n",
       "      <th>25</th>\n",
       "      <td>p</td>\n",
       "      <td>তা ৯ পাতাটি জপ কপি ডা কক্স</td>\n",
       "    </tr>\n",
       "    <tr>\n",
       "      <th>26</th>\n",
       "      <td>p</td>\n",
       "      <td>্স্থ\\nউৎসর্গীকৃত\\nহইল।</td>\n",
       "    </tr>\n",
       "    <tr>\n",
       "      <th>27</th>\n",
       "      <td>p</td>\n",
       "      <td>০</td>\n",
       "    </tr>\n",
       "    <tr>\n",
       "      <th>28</th>\n",
       "      <td>p</td>\n",
       "      <td>নবি সিক্স</td>\n",
       "    </tr>\n",
       "    <tr>\n",
       "      <th>30</th>\n",
       "      <td>p</td>\n",
       "      <td>15565 732 01090602৫06 1:91512) [2100115০005\\n»...</td>\n",
       "    </tr>\n",
       "    <tr>\n",
       "      <th>32</th>\n",
       "      <td>p</td>\n",
       "      <td>শ্রীভগবানের আশীর্বাদে এবং বঙ্গীয় পাঠক ও অনুগ্...</td>\n",
       "    </tr>\n",
       "    <tr>\n",
       "      <th>33</th>\n",
       "      <td>p</td>\n",
       "      <td>এঁতি্াসিক যুগে গৌড়-বঙ্গ ও মগধের ইতিহাস ওত প্র...</td>\n",
       "    </tr>\n",
       "    <tr>\n",
       "      <th>35</th>\n",
       "      <td>p</td>\n",
       "      <td>[ ২]</td>\n",
       "    </tr>\n",
       "    <tr>\n",
       "      <th>36</th>\n",
       "      <td>p</td>\n",
       "      <td>যুগ। এই যুগেই গৌড়বঙ্গে সুপ্ত প্রজাশক্তির উদ্ব...</td>\n",
       "    </tr>\n",
       "    <tr>\n",
       "      <th>37</th>\n",
       "      <td>p</td>\n",
       "      <td>গোড়বঙ্গের প্রাধান্ত ভারতে সুপ্রতিষ্ঠিত হইরাছি...</td>\n",
       "    </tr>\n",
       "    <tr>\n",
       "      <th>38</th>\n",
       "      <td>p</td>\n",
       "      <td>গোৌঁড়বঙ্গের শিরিকুল অনিন্যা-নুন্দর রচনা-প্রতি...</td>\n",
       "    </tr>\n",
       "    <tr>\n",
       "      <th>39</th>\n",
       "      <td>p</td>\n",
       "      <td>দশম শতাবীর শেষ পাদে গৌড়ের আলিঙ্জন.পাশ মুক্ত ক...</td>\n",
       "    </tr>\n",
       "    <tr>\n",
       "      <th>42</th>\n",
       "      <td>p</td>\n",
       "      <td>[ ৩!</td>\n",
       "    </tr>\n",
       "    <tr>\n",
       "      <th>43</th>\n",
       "      <td>p</td>\n",
       "      <td>এই গ্রন্থ মধ্যে বছ অভিজ্ঞ ও কৃতবিষ্ত পূর্বব স্...</td>\n",
       "    </tr>\n",
       "    <tr>\n",
       "      <th>44</th>\n",
       "      <td>p</td>\n",
       "      <td>বঙ্গদেশে বৈজ্ঞানিক প্রণালীতে ইতিহাস রচনার পথ-প...</td>\n",
       "    </tr>\n",
       "    <tr>\n",
       "      <th>45</th>\n",
       "      <td>p</td>\n",
       "      <td>এই গ্রন্থ প্রণয়ন কালে প্রদ্বতত্ব-বিশারদ স্থগ্...</td>\n",
       "    </tr>\n",
       "    <tr>\n",
       "      <th>47</th>\n",
       "      <td>p</td>\n",
       "      <td>[৪]</td>\n",
       "    </tr>\n",
       "    <tr>\n",
       "      <th>48</th>\n",
       "      <td>p</td>\n",
       "      <td>প্রমাণ-পঞ্জীই আমার প্রধান অবলম্বন ছিল। চন্্র়া...</td>\n",
       "    </tr>\n",
       "    <tr>\n",
       "      <th>49</th>\n",
       "      <td>p</td>\n",
       "      <td>এতগ্থাতীত পৃঞ্পাদ মহামছোপাধ্যায শ্রীযুক্ত হর প...</td>\n",
       "    </tr>\n",
       "    <tr>\n",
       "      <th>51</th>\n",
       "      <td>p</td>\n",
       "      <td>[ ৫ ]</td>\n",
       "    </tr>\n",
       "    <tr>\n",
       "      <th>52</th>\n",
       "      <td>p</td>\n",
       "      <td>কালে মনোমোহন বাবুর লিখিত গবেষণ! পর্ণ বিবিধ নিব...</td>\n",
       "    </tr>\n",
       "    <tr>\n",
       "      <th>53</th>\n",
       "      <td>p</td>\n",
       "      <td>সংস্কত কলেজের অধ্যক্ষ মহামহোপাধ্যাযর পণ্ডিত রী...</td>\n",
       "    </tr>\n",
       "    <tr>\n",
       "      <th>54</th>\n",
       "      <td>p</td>\n",
       "      <td>শ্রীযুক্ত যোগেন্্র নাথ গুপ্ত, শ্রীযুক্ত রাখালদ...</td>\n",
       "    </tr>\n",
       "    <tr>\n",
       "      <th>55</th>\n",
       "      <td>p</td>\n",
       "      <td>ঢাকার ইতিহাস রচনার গুরুত্ব অনুভব করিয়া শ্রীযু...</td>\n",
       "    </tr>\n",
       "    <tr>\n",
       "      <th>57</th>\n",
       "      <td>p</td>\n",
       "      <td>[৬]</td>\n",
       "    </tr>\n",
       "    <tr>\n",
       "      <th>58</th>\n",
       "      <td>p</td>\n",
       "      <td>অবশেষে যে মহান্থুভবের আশ্রয়ে নিশ্চিন্ত মনে এই...</td>\n",
       "    </tr>\n",
       "    <tr>\n",
       "      <th>59</th>\n",
       "      <td>p</td>\n",
       "      <td>উপসংহারে বক্তব্য এই যে, গ্র্থ মধ এই অক্তি দীন\\...</td>\n",
       "    </tr>\n",
       "    <tr>\n",
       "      <th>60</th>\n",
       "      <td>p</td>\n",
       "      <td>দক্ষিণ বিত্রমপুর\\nগ্রাম নগর । পোঃ উপনী।\\nমহালগ...</td>\n",
       "    </tr>\n",
       "    <tr>\n",
       "      <th>61</th>\n",
       "      <td>p</td>\n",
       "      <td>| শ্রীযতীন্দ্রমোহন রায়।</td>\n",
       "    </tr>\n",
       "    <tr>\n",
       "      <th>63</th>\n",
       "      <td>p</td>\n",
       "      <td>বিষয় সুচী।</td>\n",
       "    </tr>\n",
       "    <tr>\n",
       "      <th>64</th>\n",
       "      <td>p</td>\n",
       "      <td>'প্রথম অধ্যায়।\\nউপক্রমণিক! ( ১--১৮)।\\nবঙ্গ-হর...</td>\n",
       "    </tr>\n",
       "    <tr>\n",
       "      <th>65</th>\n",
       "      <td>p</td>\n",
       "      <td>দ্বিতীয় অধ্যায়।\\nমৌর্য্যবংশ ( ১৯--৩১)।\\nমৌর্...</td>\n",
       "    </tr>\n",
       "    <tr>\n",
       "      <th>66</th>\n",
       "      <td>p</td>\n",
       "      <td>তৃতীয় অধ্যায়।\\nগু সাম্রাজ্য (৩২-৫৬)।\\nঘটোৎকচ...</td>\n",
       "    </tr>\n",
       "  </tbody>\n",
       "</table>\n",
       "</div>"
      ],
      "text/plain": [
       "   type                                            content\n",
       "5     p                                      ঢাকার ইতিহাস।\n",
       "6     p  ভিভীক্স শব?\\n( প্রাচীনকাল হইতে মোসলমানাগমনের প...\n",
       "7     p                                              ৫৯০৫১\n",
       "8     p                     স্রীযতীন্দ্র মোহন রায় প্রণীত।\n",
       "9     p                                                  ৩\n",
       "10    p  __কলিকাতাঁ_\\n২৯৭ নং আগার চিৎপুর রোড হইতে\\nশ্রী...\n",
       "11    p  ১৩২২ বঙ্গাব ।\\n্রন্থকার়ের সর্বস্বত্ব সংরক্ষিত...\n",
       "14    p  প্রীপ্তিস্থান:২-\\n১। চাকা, কামার নগর, জজকোর্টে...\n",
       "15    p  শ্রীযুক্ত রজনীকান্ত গুপ্ত মহাশয়ের বাসায়\\nপ্র...\n",
       "16    p                          ৬৫ নং কলেজ ্টাট, কলিকাত|।\n",
       "18    p                                                  ূ\n",
       "19    p                                       উস্ত্পগ্গা ?\n",
       "20    p                                               ০১০৯\n",
       "21    p   পরম পুজনীয় জ্ঞেষ্ঠতাঁত\\nস্বর্গীয় ব্র্মোহন রায়\n",
       "22   ul                          ৩.\\nপরমারাধ্যা ধাত্রীমাতা\n",
       "23   li                          ৩.\\nপরমারাধ্যা ধাত্রীমাতা\n",
       "24    p  ্বর্গায়া বিদ্যাদাসীর\\nপুণ্য নামে\\nভক্তি সহকার...\n",
       "25    p                         তা ৯ পাতাটি জপ কপি ডা কক্স\n",
       "26    p                             ্স্থ\\nউৎসর্গীকৃত\\nহইল।\n",
       "27    p                                                  ০\n",
       "28    p                                          নবি সিক্স\n",
       "30    p  15565 732 01090602৫06 1:91512) [2100115০005\\n»...\n",
       "32    p  শ্রীভগবানের আশীর্বাদে এবং বঙ্গীয় পাঠক ও অনুগ্...\n",
       "33    p  এঁতি্াসিক যুগে গৌড়-বঙ্গ ও মগধের ইতিহাস ওত প্র...\n",
       "35    p                                               [ ২]\n",
       "36    p  যুগ। এই যুগেই গৌড়বঙ্গে সুপ্ত প্রজাশক্তির উদ্ব...\n",
       "37    p  গোড়বঙ্গের প্রাধান্ত ভারতে সুপ্রতিষ্ঠিত হইরাছি...\n",
       "38    p  গোৌঁড়বঙ্গের শিরিকুল অনিন্যা-নুন্দর রচনা-প্রতি...\n",
       "39    p  দশম শতাবীর শেষ পাদে গৌড়ের আলিঙ্জন.পাশ মুক্ত ক...\n",
       "42    p                                               [ ৩!\n",
       "43    p  এই গ্রন্থ মধ্যে বছ অভিজ্ঞ ও কৃতবিষ্ত পূর্বব স্...\n",
       "44    p  বঙ্গদেশে বৈজ্ঞানিক প্রণালীতে ইতিহাস রচনার পথ-প...\n",
       "45    p  এই গ্রন্থ প্রণয়ন কালে প্রদ্বতত্ব-বিশারদ স্থগ্...\n",
       "47    p                                                [৪]\n",
       "48    p  প্রমাণ-পঞ্জীই আমার প্রধান অবলম্বন ছিল। চন্্র়া...\n",
       "49    p  এতগ্থাতীত পৃঞ্পাদ মহামছোপাধ্যায শ্রীযুক্ত হর প...\n",
       "51    p                                              [ ৫ ]\n",
       "52    p  কালে মনোমোহন বাবুর লিখিত গবেষণ! পর্ণ বিবিধ নিব...\n",
       "53    p  সংস্কত কলেজের অধ্যক্ষ মহামহোপাধ্যাযর পণ্ডিত রী...\n",
       "54    p  শ্রীযুক্ত যোগেন্্র নাথ গুপ্ত, শ্রীযুক্ত রাখালদ...\n",
       "55    p  ঢাকার ইতিহাস রচনার গুরুত্ব অনুভব করিয়া শ্রীযু...\n",
       "57    p                                                [৬]\n",
       "58    p  অবশেষে যে মহান্থুভবের আশ্রয়ে নিশ্চিন্ত মনে এই...\n",
       "59    p  উপসংহারে বক্তব্য এই যে, গ্র্থ মধ এই অক্তি দীন\\...\n",
       "60    p  দক্ষিণ বিত্রমপুর\\nগ্রাম নগর । পোঃ উপনী।\\nমহালগ...\n",
       "61    p                           | শ্রীযতীন্দ্রমোহন রায়।\n",
       "63    p                                        বিষয় সুচী।\n",
       "64    p  'প্রথম অধ্যায়।\\nউপক্রমণিক! ( ১--১৮)।\\nবঙ্গ-হর...\n",
       "65    p  দ্বিতীয় অধ্যায়।\\nমৌর্য্যবংশ ( ১৯--৩১)।\\nমৌর্...\n",
       "66    p  তৃতীয় অধ্যায়।\\nগু সাম্রাজ্য (৩২-৫৬)।\\nঘটোৎকচ..."
      ]
     },
     "execution_count": 25,
     "metadata": {},
     "output_type": "execute_result"
    }
   ],
   "source": [
    "data.head(50)"
   ]
  },
  {
   "cell_type": "code",
   "execution_count": 26,
   "metadata": {},
   "outputs": [
    {
     "name": "stderr",
     "output_type": "stream",
     "text": [
      "C:\\Users\\USERAS\\AppData\\Local\\Temp\\ipykernel_191056\\1823745677.py:9: FutureWarning: DataFrame.applymap has been deprecated. Use DataFrame.map instead.\n",
      "  df = df.applymap(clean_text)\n"
     ]
    }
   ],
   "source": [
    "def clean_text(text):\n",
    "    if isinstance(text, str):\n",
    "        text = re.sub(r\"https://\\S+\", \"\", text)  # Remove URLs\n",
    "        text = text.replace(\"\\n\", \" \")  # Remove newlines\n",
    "        return text.strip()\n",
    "    return text\n",
    "\n",
    "# Apply cleaning to all text columns\n",
    "df = df.applymap(clean_text)"
   ]
  },
  {
   "cell_type": "code",
   "execution_count": 27,
   "metadata": {},
   "outputs": [
    {
     "data": {
      "text/html": [
       "<div>\n",
       "<style scoped>\n",
       "    .dataframe tbody tr th:only-of-type {\n",
       "        vertical-align: middle;\n",
       "    }\n",
       "\n",
       "    .dataframe tbody tr th {\n",
       "        vertical-align: top;\n",
       "    }\n",
       "\n",
       "    .dataframe thead th {\n",
       "        text-align: right;\n",
       "    }\n",
       "</style>\n",
       "<table border=\"1\" class=\"dataframe\">\n",
       "  <thead>\n",
       "    <tr style=\"text-align: right;\">\n",
       "      <th></th>\n",
       "      <th>type</th>\n",
       "      <th>content</th>\n",
       "    </tr>\n",
       "  </thead>\n",
       "  <tbody>\n",
       "    <tr>\n",
       "      <th>5</th>\n",
       "      <td>p</td>\n",
       "      <td>ঢাকার ইতিহাস।</td>\n",
       "    </tr>\n",
       "    <tr>\n",
       "      <th>6</th>\n",
       "      <td>p</td>\n",
       "      <td>ভিভীক্স শব? ( প্রাচীনকাল হইতে মোসলমানাগমনের পূ...</td>\n",
       "    </tr>\n",
       "    <tr>\n",
       "      <th>7</th>\n",
       "      <td>p</td>\n",
       "      <td>৫৯০৫১</td>\n",
       "    </tr>\n",
       "    <tr>\n",
       "      <th>8</th>\n",
       "      <td>p</td>\n",
       "      <td>স্রীযতীন্দ্র মোহন রায় প্রণীত।</td>\n",
       "    </tr>\n",
       "    <tr>\n",
       "      <th>9</th>\n",
       "      <td>p</td>\n",
       "      <td>৩</td>\n",
       "    </tr>\n",
       "  </tbody>\n",
       "</table>\n",
       "</div>"
      ],
      "text/plain": [
       "  type                                            content\n",
       "5    p                                      ঢাকার ইতিহাস।\n",
       "6    p  ভিভীক্স শব? ( প্রাচীনকাল হইতে মোসলমানাগমনের পূ...\n",
       "7    p                                              ৫৯০৫১\n",
       "8    p                     স্রীযতীন্দ্র মোহন রায় প্রণীত।\n",
       "9    p                                                  ৩"
      ]
     },
     "execution_count": 27,
     "metadata": {},
     "output_type": "execute_result"
    }
   ],
   "source": [
    "df.head()"
   ]
  },
  {
   "cell_type": "code",
   "execution_count": 28,
   "metadata": {},
   "outputs": [
    {
     "name": "stdout",
     "output_type": "stream",
     "text": [
      "       type                                            content\n",
      "5         p                                      ঢাকার ইতিহাস।\n",
      "6         p  ভিভীক্স শব? ( প্রাচীনকাল হইতে মোসলমানাগমনের পূ...\n",
      "7         p                                              ৫৯০৫১\n",
      "8         p                     স্রীযতীন্দ্র মোহন রায় প্রণীত।\n",
      "9         p                                                  ৩\n",
      "...     ...                                                ...\n",
      "192509    p                                          অনুসন্ধান\n",
      "192510    p                                  সূচিপত্র টগল করুন\n",
      "192511    p                     ২০১৮-র নিরাপদ সড়ক চাই আন্দোলন\n",
      "192512    p                                           ৮টি ভাষা\n",
      "192513    p                                    আলোচনা যোগ করুন\n",
      "\n",
      "[166994 rows x 2 columns]\n"
     ]
    }
   ],
   "source": [
    "print(df)"
   ]
  },
  {
   "cell_type": "code",
   "execution_count": 29,
   "metadata": {},
   "outputs": [],
   "source": [
    "cleaned_dataset_path = 'cleaned_dataset.csv'"
   ]
  },
  {
   "cell_type": "code",
   "execution_count": 30,
   "metadata": {},
   "outputs": [],
   "source": [
    "df.to_csv(cleaned_dataset_path, index=False)"
   ]
  },
  {
   "cell_type": "code",
   "execution_count": 33,
   "metadata": {},
   "outputs": [
    {
     "name": "stdout",
     "output_type": "stream",
     "text": [
      "Cleaned dataset saved to Dataset.csv\n"
     ]
    }
   ],
   "source": [
    "import pandas as pd\n",
    "import re\n",
    "\n",
    "# Load the Q&A CSV\n",
    "df = pd.read_csv(\"workingData/bengali_history_qa_dataset.csv\")\n",
    "\n",
    "# Only keep the required columns\n",
    "required_columns = ['original_title', 'source_text', 'question', 'answer']\n",
    "df = df[required_columns]\n",
    "\n",
    "# Define Bengali character regex\n",
    "bengali_pattern = r'[\\u0980-\\u09FF]'\n",
    "\n",
    "# Keep rows that have Bengali characters in any of the four fields\n",
    "row_has_bengali = df[required_columns].apply(\n",
    "    lambda row: any(bool(re.search(bengali_pattern, str(cell))) for cell in row), axis=1\n",
    ")\n",
    "df = df[row_has_bengali]\n",
    "\n",
    "# Drop rows with any missing values\n",
    "df = df.dropna()\n",
    "\n",
    "# Text cleaning function\n",
    "def clean_text(text):\n",
    "    if isinstance(text, str):\n",
    "        text = re.sub(r\"https?://\\S+\", \"\", text)  # Remove URLs\n",
    "        text = text.replace(\"\\n\", \" \")  # Remove newlines\n",
    "        text = text.strip()\n",
    "    return text\n",
    "\n",
    "# Apply cleaning only to text columns\n",
    "for col in required_columns:\n",
    "    df[col] = df[col].apply(clean_text)\n",
    "\n",
    "# Save cleaned dataset\n",
    "cleaned_dataset_path = 'Dataset.csv'\n",
    "df.to_csv(cleaned_dataset_path, index=False)\n",
    "print(f\"Cleaned dataset saved to {cleaned_dataset_path}\")\n"
   ]
  },
  {
   "cell_type": "code",
   "execution_count": 34,
   "metadata": {},
   "outputs": [
    {
     "ename": "FileNotFoundError",
     "evalue": "[Errno 2] No such file or directory: 'bengali_history_qa_dataset.csv'",
     "output_type": "error",
     "traceback": [
      "\u001b[1;31m---------------------------------------------------------------------------\u001b[0m",
      "\u001b[1;31mFileNotFoundError\u001b[0m                         Traceback (most recent call last)",
      "Cell \u001b[1;32mIn[34], line 5\u001b[0m\n\u001b[0;32m      2\u001b[0m \u001b[38;5;28;01mimport\u001b[39;00m \u001b[38;5;21;01mre\u001b[39;00m\n\u001b[0;32m      4\u001b[0m \u001b[38;5;66;03m# Load dataset\u001b[39;00m\n\u001b[1;32m----> 5\u001b[0m df \u001b[38;5;241m=\u001b[39m pd\u001b[38;5;241m.\u001b[39mread_csv(\u001b[38;5;124m\"\u001b[39m\u001b[38;5;124mbengali_history_qa_dataset.csv\u001b[39m\u001b[38;5;124m\"\u001b[39m)\n\u001b[0;32m      7\u001b[0m \u001b[38;5;66;03m# Keep only required columns\u001b[39;00m\n\u001b[0;32m      8\u001b[0m columns \u001b[38;5;241m=\u001b[39m [\u001b[38;5;124m'\u001b[39m\u001b[38;5;124moriginal_title\u001b[39m\u001b[38;5;124m'\u001b[39m, \u001b[38;5;124m'\u001b[39m\u001b[38;5;124msource_text\u001b[39m\u001b[38;5;124m'\u001b[39m, \u001b[38;5;124m'\u001b[39m\u001b[38;5;124mquestion\u001b[39m\u001b[38;5;124m'\u001b[39m, \u001b[38;5;124m'\u001b[39m\u001b[38;5;124manswer\u001b[39m\u001b[38;5;124m'\u001b[39m]\n",
      "File \u001b[1;32mc:\\Users\\USERAS\\anaconda3\\envs\\resPy\\Lib\\site-packages\\pandas\\io\\parsers\\readers.py:1026\u001b[0m, in \u001b[0;36mread_csv\u001b[1;34m(filepath_or_buffer, sep, delimiter, header, names, index_col, usecols, dtype, engine, converters, true_values, false_values, skipinitialspace, skiprows, skipfooter, nrows, na_values, keep_default_na, na_filter, verbose, skip_blank_lines, parse_dates, infer_datetime_format, keep_date_col, date_parser, date_format, dayfirst, cache_dates, iterator, chunksize, compression, thousands, decimal, lineterminator, quotechar, quoting, doublequote, escapechar, comment, encoding, encoding_errors, dialect, on_bad_lines, delim_whitespace, low_memory, memory_map, float_precision, storage_options, dtype_backend)\u001b[0m\n\u001b[0;32m   1013\u001b[0m kwds_defaults \u001b[38;5;241m=\u001b[39m _refine_defaults_read(\n\u001b[0;32m   1014\u001b[0m     dialect,\n\u001b[0;32m   1015\u001b[0m     delimiter,\n\u001b[1;32m   (...)\u001b[0m\n\u001b[0;32m   1022\u001b[0m     dtype_backend\u001b[38;5;241m=\u001b[39mdtype_backend,\n\u001b[0;32m   1023\u001b[0m )\n\u001b[0;32m   1024\u001b[0m kwds\u001b[38;5;241m.\u001b[39mupdate(kwds_defaults)\n\u001b[1;32m-> 1026\u001b[0m \u001b[38;5;28;01mreturn\u001b[39;00m _read(filepath_or_buffer, kwds)\n",
      "File \u001b[1;32mc:\\Users\\USERAS\\anaconda3\\envs\\resPy\\Lib\\site-packages\\pandas\\io\\parsers\\readers.py:620\u001b[0m, in \u001b[0;36m_read\u001b[1;34m(filepath_or_buffer, kwds)\u001b[0m\n\u001b[0;32m    617\u001b[0m _validate_names(kwds\u001b[38;5;241m.\u001b[39mget(\u001b[38;5;124m\"\u001b[39m\u001b[38;5;124mnames\u001b[39m\u001b[38;5;124m\"\u001b[39m, \u001b[38;5;28;01mNone\u001b[39;00m))\n\u001b[0;32m    619\u001b[0m \u001b[38;5;66;03m# Create the parser.\u001b[39;00m\n\u001b[1;32m--> 620\u001b[0m parser \u001b[38;5;241m=\u001b[39m TextFileReader(filepath_or_buffer, \u001b[38;5;241m*\u001b[39m\u001b[38;5;241m*\u001b[39mkwds)\n\u001b[0;32m    622\u001b[0m \u001b[38;5;28;01mif\u001b[39;00m chunksize \u001b[38;5;129;01mor\u001b[39;00m iterator:\n\u001b[0;32m    623\u001b[0m     \u001b[38;5;28;01mreturn\u001b[39;00m parser\n",
      "File \u001b[1;32mc:\\Users\\USERAS\\anaconda3\\envs\\resPy\\Lib\\site-packages\\pandas\\io\\parsers\\readers.py:1620\u001b[0m, in \u001b[0;36mTextFileReader.__init__\u001b[1;34m(self, f, engine, **kwds)\u001b[0m\n\u001b[0;32m   1617\u001b[0m     \u001b[38;5;28mself\u001b[39m\u001b[38;5;241m.\u001b[39moptions[\u001b[38;5;124m\"\u001b[39m\u001b[38;5;124mhas_index_names\u001b[39m\u001b[38;5;124m\"\u001b[39m] \u001b[38;5;241m=\u001b[39m kwds[\u001b[38;5;124m\"\u001b[39m\u001b[38;5;124mhas_index_names\u001b[39m\u001b[38;5;124m\"\u001b[39m]\n\u001b[0;32m   1619\u001b[0m \u001b[38;5;28mself\u001b[39m\u001b[38;5;241m.\u001b[39mhandles: IOHandles \u001b[38;5;241m|\u001b[39m \u001b[38;5;28;01mNone\u001b[39;00m \u001b[38;5;241m=\u001b[39m \u001b[38;5;28;01mNone\u001b[39;00m\n\u001b[1;32m-> 1620\u001b[0m \u001b[38;5;28mself\u001b[39m\u001b[38;5;241m.\u001b[39m_engine \u001b[38;5;241m=\u001b[39m \u001b[38;5;28mself\u001b[39m\u001b[38;5;241m.\u001b[39m_make_engine(f, \u001b[38;5;28mself\u001b[39m\u001b[38;5;241m.\u001b[39mengine)\n",
      "File \u001b[1;32mc:\\Users\\USERAS\\anaconda3\\envs\\resPy\\Lib\\site-packages\\pandas\\io\\parsers\\readers.py:1880\u001b[0m, in \u001b[0;36mTextFileReader._make_engine\u001b[1;34m(self, f, engine)\u001b[0m\n\u001b[0;32m   1878\u001b[0m     \u001b[38;5;28;01mif\u001b[39;00m \u001b[38;5;124m\"\u001b[39m\u001b[38;5;124mb\u001b[39m\u001b[38;5;124m\"\u001b[39m \u001b[38;5;129;01mnot\u001b[39;00m \u001b[38;5;129;01min\u001b[39;00m mode:\n\u001b[0;32m   1879\u001b[0m         mode \u001b[38;5;241m+\u001b[39m\u001b[38;5;241m=\u001b[39m \u001b[38;5;124m\"\u001b[39m\u001b[38;5;124mb\u001b[39m\u001b[38;5;124m\"\u001b[39m\n\u001b[1;32m-> 1880\u001b[0m \u001b[38;5;28mself\u001b[39m\u001b[38;5;241m.\u001b[39mhandles \u001b[38;5;241m=\u001b[39m get_handle(\n\u001b[0;32m   1881\u001b[0m     f,\n\u001b[0;32m   1882\u001b[0m     mode,\n\u001b[0;32m   1883\u001b[0m     encoding\u001b[38;5;241m=\u001b[39m\u001b[38;5;28mself\u001b[39m\u001b[38;5;241m.\u001b[39moptions\u001b[38;5;241m.\u001b[39mget(\u001b[38;5;124m\"\u001b[39m\u001b[38;5;124mencoding\u001b[39m\u001b[38;5;124m\"\u001b[39m, \u001b[38;5;28;01mNone\u001b[39;00m),\n\u001b[0;32m   1884\u001b[0m     compression\u001b[38;5;241m=\u001b[39m\u001b[38;5;28mself\u001b[39m\u001b[38;5;241m.\u001b[39moptions\u001b[38;5;241m.\u001b[39mget(\u001b[38;5;124m\"\u001b[39m\u001b[38;5;124mcompression\u001b[39m\u001b[38;5;124m\"\u001b[39m, \u001b[38;5;28;01mNone\u001b[39;00m),\n\u001b[0;32m   1885\u001b[0m     memory_map\u001b[38;5;241m=\u001b[39m\u001b[38;5;28mself\u001b[39m\u001b[38;5;241m.\u001b[39moptions\u001b[38;5;241m.\u001b[39mget(\u001b[38;5;124m\"\u001b[39m\u001b[38;5;124mmemory_map\u001b[39m\u001b[38;5;124m\"\u001b[39m, \u001b[38;5;28;01mFalse\u001b[39;00m),\n\u001b[0;32m   1886\u001b[0m     is_text\u001b[38;5;241m=\u001b[39mis_text,\n\u001b[0;32m   1887\u001b[0m     errors\u001b[38;5;241m=\u001b[39m\u001b[38;5;28mself\u001b[39m\u001b[38;5;241m.\u001b[39moptions\u001b[38;5;241m.\u001b[39mget(\u001b[38;5;124m\"\u001b[39m\u001b[38;5;124mencoding_errors\u001b[39m\u001b[38;5;124m\"\u001b[39m, \u001b[38;5;124m\"\u001b[39m\u001b[38;5;124mstrict\u001b[39m\u001b[38;5;124m\"\u001b[39m),\n\u001b[0;32m   1888\u001b[0m     storage_options\u001b[38;5;241m=\u001b[39m\u001b[38;5;28mself\u001b[39m\u001b[38;5;241m.\u001b[39moptions\u001b[38;5;241m.\u001b[39mget(\u001b[38;5;124m\"\u001b[39m\u001b[38;5;124mstorage_options\u001b[39m\u001b[38;5;124m\"\u001b[39m, \u001b[38;5;28;01mNone\u001b[39;00m),\n\u001b[0;32m   1889\u001b[0m )\n\u001b[0;32m   1890\u001b[0m \u001b[38;5;28;01massert\u001b[39;00m \u001b[38;5;28mself\u001b[39m\u001b[38;5;241m.\u001b[39mhandles \u001b[38;5;129;01mis\u001b[39;00m \u001b[38;5;129;01mnot\u001b[39;00m \u001b[38;5;28;01mNone\u001b[39;00m\n\u001b[0;32m   1891\u001b[0m f \u001b[38;5;241m=\u001b[39m \u001b[38;5;28mself\u001b[39m\u001b[38;5;241m.\u001b[39mhandles\u001b[38;5;241m.\u001b[39mhandle\n",
      "File \u001b[1;32mc:\\Users\\USERAS\\anaconda3\\envs\\resPy\\Lib\\site-packages\\pandas\\io\\common.py:873\u001b[0m, in \u001b[0;36mget_handle\u001b[1;34m(path_or_buf, mode, encoding, compression, memory_map, is_text, errors, storage_options)\u001b[0m\n\u001b[0;32m    868\u001b[0m \u001b[38;5;28;01melif\u001b[39;00m \u001b[38;5;28misinstance\u001b[39m(handle, \u001b[38;5;28mstr\u001b[39m):\n\u001b[0;32m    869\u001b[0m     \u001b[38;5;66;03m# Check whether the filename is to be opened in binary mode.\u001b[39;00m\n\u001b[0;32m    870\u001b[0m     \u001b[38;5;66;03m# Binary mode does not support 'encoding' and 'newline'.\u001b[39;00m\n\u001b[0;32m    871\u001b[0m     \u001b[38;5;28;01mif\u001b[39;00m ioargs\u001b[38;5;241m.\u001b[39mencoding \u001b[38;5;129;01mand\u001b[39;00m \u001b[38;5;124m\"\u001b[39m\u001b[38;5;124mb\u001b[39m\u001b[38;5;124m\"\u001b[39m \u001b[38;5;129;01mnot\u001b[39;00m \u001b[38;5;129;01min\u001b[39;00m ioargs\u001b[38;5;241m.\u001b[39mmode:\n\u001b[0;32m    872\u001b[0m         \u001b[38;5;66;03m# Encoding\u001b[39;00m\n\u001b[1;32m--> 873\u001b[0m         handle \u001b[38;5;241m=\u001b[39m \u001b[38;5;28mopen\u001b[39m(\n\u001b[0;32m    874\u001b[0m             handle,\n\u001b[0;32m    875\u001b[0m             ioargs\u001b[38;5;241m.\u001b[39mmode,\n\u001b[0;32m    876\u001b[0m             encoding\u001b[38;5;241m=\u001b[39mioargs\u001b[38;5;241m.\u001b[39mencoding,\n\u001b[0;32m    877\u001b[0m             errors\u001b[38;5;241m=\u001b[39merrors,\n\u001b[0;32m    878\u001b[0m             newline\u001b[38;5;241m=\u001b[39m\u001b[38;5;124m\"\u001b[39m\u001b[38;5;124m\"\u001b[39m,\n\u001b[0;32m    879\u001b[0m         )\n\u001b[0;32m    880\u001b[0m     \u001b[38;5;28;01melse\u001b[39;00m:\n\u001b[0;32m    881\u001b[0m         \u001b[38;5;66;03m# Binary mode\u001b[39;00m\n\u001b[0;32m    882\u001b[0m         handle \u001b[38;5;241m=\u001b[39m \u001b[38;5;28mopen\u001b[39m(handle, ioargs\u001b[38;5;241m.\u001b[39mmode)\n",
      "\u001b[1;31mFileNotFoundError\u001b[0m: [Errno 2] No such file or directory: 'bengali_history_qa_dataset.csv'"
     ]
    }
   ],
   "source": [
    "import pandas as pd\n",
    "import re\n",
    "\n",
    "# Load dataset\n",
    "df = pd.read_csv(\"bengali_history_qa_dataset.csv\")\n",
    "\n",
    "# Keep only required columns\n",
    "columns = ['original_title', 'source_text', 'question', 'answer']\n",
    "df = df[columns]\n",
    "\n",
    "# Regex patterns\n",
    "bengali_pattern = r'[\\u0980-\\u09FF]'\n",
    "emoji_pattern = r'[^\\w\\s\\u0980-\\u09FF.,!?ঃঁৎৗৄৢৣ]\"'  # Keeps mostly Bengali and punctuation\n",
    "url_pattern = r\"https?://\\S+|www\\.\\S+\"\n",
    "latin_pattern = r'[A-Za-z]'\n",
    "repeated_punct = r'[!?।:]{2,}'\n",
    "\n",
    "# Cleaning function\n",
    "def clean_text(text):\n",
    "    if not isinstance(text, str):\n",
    "        return \"\"\n",
    "\n",
    "    text = re.sub(url_pattern, \"\", text)  # Remove URLs\n",
    "    text = re.sub(emoji_pattern, \"\", text)  # Remove emojis and odd chars\n",
    "    text = re.sub(latin_pattern, \"\", text)  # Remove Latin characters\n",
    "    text = re.sub(repeated_punct, \".\", text)  # Normalize repeated punctuation\n",
    "    text = text.replace(\"\\n\", \" \").replace(\"\\r\", \" \")  # Remove newlines\n",
    "    text = re.sub(r'\\s+', ' ', text)  # Remove extra spaces\n",
    "    return text.strip()\n",
    "\n",
    "# Apply cleaning\n",
    "for col in columns:\n",
    "    df[col] = df[col].apply(clean_text)\n",
    "\n",
    "# Filter: must contain sufficient Bengali text\n",
    "def is_valid_bengali(text, min_ratio=0.6):\n",
    "    total_chars = len(text)\n",
    "    bengali_chars = len(re.findall(bengali_pattern, text))\n",
    "    return total_chars > 0 and (bengali_chars / total_chars) >= min_ratio\n",
    "\n",
    "# Drop rows that fail any validation\n",
    "df = df[\n",
    "    df['original_title'].apply(lambda x: is_valid_bengali(x) and len(x) >= 10) &\n",
    "    df['question'].apply(lambda x: is_valid_bengali(x) and len(x) >= 10) &\n",
    "    df['answer'].apply(lambda x: is_valid_bengali(x) and len(x) >= 20)\n",
    "]\n",
    "\n",
    "# Drop rows with NaNs\n",
    "df = df.dropna()\n",
    "\n",
    "# Save cleaned dataset\n",
    "output_path = \"Bengali_QA.csv\"\n",
    "df.to_csv(output_path, index=False)\n",
    "print(f\"Strictly cleaned dataset saved to {output_path}\")\n"
   ]
  },
  {
   "cell_type": "code",
   "execution_count": 1,
   "metadata": {},
   "outputs": [
    {
     "name": "stderr",
     "output_type": "stream",
     "text": [
      "C:\\Users\\USERAS\\AppData\\Local\\Temp\\ipykernel_47956\\2816031827.py:5: DtypeWarning: Columns (5,6,8,9) have mixed types. Specify dtype option on import or set low_memory=False.\n",
      "  df = pd.read_csv(\"data.csv\")\n"
     ]
    },
    {
     "name": "stdout",
     "output_type": "stream",
     "text": [
      "Strictly cleaned dataset saved to data.csv\n"
     ]
    }
   ],
   "source": [
    "import pandas as pd\n",
    "import re\n",
    "\n",
    "# Load dataset\n",
    "df = pd.read_csv(\"data.csv\")\n",
    "\n",
    "# Keep only required columns\n",
    "columns = ['original_title', 'source_text', 'question', 'answer']\n",
    "df = df[columns]\n",
    "\n",
    "# Regex patterns\n",
    "bengali_pattern = r'[\\u0980-\\u09FF]'\n",
    "emoji_pattern = r'[^\\w\\s\\u0980-\\u09FF.,!?ঃঁৎৗৄৢৣ]\"'  # Keeps mostly Bengali and punctuation\n",
    "url_pattern = r\"https?://\\S+|www\\.\\S+\"\n",
    "latin_pattern = r'[A-Za-z]'\n",
    "repeated_punct = r'[!?।:]{2,}'\n",
    "\n",
    "# Cleaning function\n",
    "def clean_text(text):\n",
    "    if not isinstance(text, str):\n",
    "        return \"\"\n",
    "\n",
    "    text = re.sub(url_pattern, \"\", text)  # Remove URLs\n",
    "    text = re.sub(emoji_pattern, \"\", text)  # Remove emojis and odd chars\n",
    "    text = re.sub(latin_pattern, \"\", text)  # Remove Latin characters\n",
    "    text = re.sub(repeated_punct, \".\", text)  # Normalize repeated punctuation\n",
    "    text = text.replace(\"\\n\", \" \").replace(\"\\r\", \" \")  # Remove newlines\n",
    "    text = re.sub(r'\\s+', ' ', text)  # Remove extra spaces\n",
    "    return text.strip()\n",
    "\n",
    "# Apply cleaning\n",
    "for col in columns:\n",
    "    df[col] = df[col].apply(clean_text)\n",
    "\n",
    "# Filter: must contain sufficient Bengali text\n",
    "def is_valid_bengali(text, min_ratio=0.6):\n",
    "    total_chars = len(text)\n",
    "    bengali_chars = len(re.findall(bengali_pattern, text))\n",
    "    return total_chars > 0 and (bengali_chars / total_chars) >= min_ratio\n",
    "\n",
    "# Drop rows that fail any validation\n",
    "df = df[\n",
    "    df['original_title'].apply(lambda x: is_valid_bengali(x) and len(x) >= 10) &\n",
    "    df['question'].apply(lambda x: is_valid_bengali(x) and len(x) >= 10) &\n",
    "    df['answer'].apply(lambda x: is_valid_bengali(x) and len(x) >= 20)\n",
    "]\n",
    "\n",
    "# Drop rows with NaNs\n",
    "df = df.dropna()\n",
    "\n",
    "# Save cleaned dataset\n",
    "output_path = \"data.csv\"\n",
    "df.to_csv(output_path, index=False)\n",
    "print(f\"Strictly cleaned dataset saved to {output_path}\")"
   ]
  }
 ],
 "metadata": {
  "kernelspec": {
   "display_name": "resPy",
   "language": "python",
   "name": "python3"
  },
  "language_info": {
   "codemirror_mode": {
    "name": "ipython",
    "version": 3
   },
   "file_extension": ".py",
   "mimetype": "text/x-python",
   "name": "python",
   "nbconvert_exporter": "python",
   "pygments_lexer": "ipython3",
   "version": "3.11.11"
  }
 },
 "nbformat": 4,
 "nbformat_minor": 2
}
