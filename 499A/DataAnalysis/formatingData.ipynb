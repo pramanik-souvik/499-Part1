{
 "cells": [
  {
   "cell_type": "code",
   "execution_count": 2,
   "id": "f7c59820",
   "metadata": {},
   "outputs": [
    {
     "name": "stdout",
     "output_type": "stream",
     "text": [
      "✅ Total usable entries: 0\n",
      "🚀 Saved preprocessed data to: dataset.json\n"
     ]
    }
   ],
   "source": [
    "import json\n",
    "\n",
    "def load_json(path):\n",
    "    with open(path, 'r', encoding='utf-8') as f:\n",
    "        return json.load(f)\n",
    "\n",
    "def save_json(data, path):\n",
    "    with open(path, 'w', encoding='utf-8') as f:\n",
    "        json.dump(data, f, ensure_ascii=False, indent=2)\n",
    "\n",
    "def preprocess_to_alpaca_format(data):\n",
    "    processed = []\n",
    "\n",
    "    for entry in data:\n",
    "        source = entry.get(\"source_text\", \"\").strip()\n",
    "        question = entry.get(\"question\", \"\").strip()\n",
    "        answer = entry.get(\"answer\", \"\").strip()\n",
    "\n",
    "        # Skip if answer is same as source_text or empty values\n",
    "        if not question or not answer or not source or answer == source:\n",
    "            continue\n",
    "\n",
    "        alpaca_entry = {\n",
    "            \"instruction\": \"এই লেখাটির ভিত্তিতে প্রশ্নের উত্তর দাও।\",\n",
    "            \"input\": f\"প্রশ্ন: {question}\\n\\nলেখা:\\n{source}\",\n",
    "            \"output\": answer\n",
    "        }\n",
    "\n",
    "        processed.append(alpaca_entry)\n",
    "\n",
    "    return processed\n",
    "\n",
    "def main():\n",
    "    input_path = \"data.json\"\n",
    "    output_path = \"dataset.json\"\n",
    "\n",
    "    raw_data = load_json(input_path)\n",
    "    processed_data = preprocess_to_alpaca_format(raw_data)\n",
    "\n",
    "    print(f\"✅ Total usable entries: {len(processed_data)}\")\n",
    "    save_json(processed_data, output_path)\n",
    "    print(f\"🚀 Saved preprocessed data to: {output_path}\")\n",
    "\n",
    "if __name__ == \"__main__\":\n",
    "    main()\n"
   ]
  }
 ],
 "metadata": {
  "kernelspec": {
   "display_name": "resPy",
   "language": "python",
   "name": "python3"
  },
  "language_info": {
   "codemirror_mode": {
    "name": "ipython",
    "version": 3
   },
   "file_extension": ".py",
   "mimetype": "text/x-python",
   "name": "python",
   "nbconvert_exporter": "python",
   "pygments_lexer": "ipython3",
   "version": "3.11.11"
  }
 },
 "nbformat": 4,
 "nbformat_minor": 5
}
