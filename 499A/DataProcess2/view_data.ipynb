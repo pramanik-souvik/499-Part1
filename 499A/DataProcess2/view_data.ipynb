{
 "cells": [
  {
   "cell_type": "code",
   "execution_count": 1,
   "id": "5f95d0c2",
   "metadata": {},
   "outputs": [
    {
     "data": {
      "text/html": [
       "<div>\n",
       "<style scoped>\n",
       "    .dataframe tbody tr th:only-of-type {\n",
       "        vertical-align: middle;\n",
       "    }\n",
       "\n",
       "    .dataframe tbody tr th {\n",
       "        vertical-align: top;\n",
       "    }\n",
       "\n",
       "    .dataframe thead th {\n",
       "        text-align: right;\n",
       "    }\n",
       "</style>\n",
       "<table border=\"1\" class=\"dataframe\">\n",
       "  <thead>\n",
       "    <tr style=\"text-align: right;\">\n",
       "      <th></th>\n",
       "      <th>﻿type</th>\n",
       "      <th>content</th>\n",
       "    </tr>\n",
       "  </thead>\n",
       "  <tbody>\n",
       "    <tr>\n",
       "      <th>0</th>\n",
       "      <td>h2</td>\n",
       "      <td>Page 1</td>\n",
       "    </tr>\n",
       "    <tr>\n",
       "      <th>1</th>\n",
       "      <td>h2</td>\n",
       "      <td>Page 2</td>\n",
       "    </tr>\n",
       "    <tr>\n",
       "      <th>2</th>\n",
       "      <td>p</td>\n",
       "      <td>7 (, | /</td>\n",
       "    </tr>\n",
       "    <tr>\n",
       "      <th>3</th>\n",
       "      <td>h2</td>\n",
       "      <td>Page 3</td>\n",
       "    </tr>\n",
       "    <tr>\n",
       "      <th>4</th>\n",
       "      <td>h2</td>\n",
       "      <td>Page 4</td>\n",
       "    </tr>\n",
       "  </tbody>\n",
       "</table>\n",
       "</div>"
      ],
      "text/plain": [
       "  ﻿type   content\n",
       "0    h2    Page 1\n",
       "1    h2    Page 2\n",
       "2     p  7 (, | /\n",
       "3    h2    Page 3\n",
       "4    h2    Page 4"
      ]
     },
     "execution_count": 1,
     "metadata": {},
     "output_type": "execute_result"
    }
   ],
   "source": [
    "import pandas as pd\n",
    "\n",
    "data = pd.read_json(\"folder/data.json\")\n",
    "\n",
    "data.head()"
   ]
  },
  {
   "cell_type": "code",
   "execution_count": 2,
   "id": "9a2a661a",
   "metadata": {},
   "outputs": [
    {
     "data": {
      "text/plain": [
       "44280"
      ]
     },
     "execution_count": 2,
     "metadata": {},
     "output_type": "execute_result"
    }
   ],
   "source": [
    "data.duplicated().sum()"
   ]
  },
  {
   "cell_type": "code",
   "execution_count": 3,
   "id": "673a4e7d",
   "metadata": {},
   "outputs": [],
   "source": [
    "df = data.drop_duplicates()"
   ]
  },
  {
   "cell_type": "code",
   "execution_count": 4,
   "id": "ba633027",
   "metadata": {},
   "outputs": [
    {
     "name": "stdout",
     "output_type": "stream",
     "text": [
      "(192514, 2)\n",
      "(148234, 2)\n"
     ]
    }
   ],
   "source": [
    "print(data.shape)\n",
    "print(df.shape)"
   ]
  },
  {
   "cell_type": "code",
   "execution_count": 5,
   "id": "1510ca55",
   "metadata": {},
   "outputs": [],
   "source": [
    "bengali_pattern = r'[\\u0980-\\u09FF]'"
   ]
  },
  {
   "cell_type": "code",
   "execution_count": 6,
   "id": "fd0c5b2e",
   "metadata": {},
   "outputs": [],
   "source": [
    "columns_to_check = ['content']"
   ]
  },
  {
   "cell_type": "code",
   "execution_count": 7,
   "id": "396e053f",
   "metadata": {},
   "outputs": [],
   "source": [
    "import re\n",
    "\n",
    "row_has_bengali = df[columns_to_check].apply(\n",
    "    lambda row: any(bool(re.search(bengali_pattern, str(cell))) for cell in row), axis=1\n",
    ")"
   ]
  },
  {
   "cell_type": "code",
   "execution_count": 8,
   "id": "b09cd858",
   "metadata": {},
   "outputs": [],
   "source": [
    "df = df[row_has_bengali]"
   ]
  },
  {
   "cell_type": "code",
   "execution_count": 9,
   "id": "1b4ae4ac",
   "metadata": {},
   "outputs": [
    {
     "data": {
      "text/plain": [
       "(146134, 2)"
      ]
     },
     "execution_count": 9,
     "metadata": {},
     "output_type": "execute_result"
    }
   ],
   "source": [
    "df.shape"
   ]
  },
  {
   "cell_type": "code",
   "execution_count": 10,
   "id": "537bcf40",
   "metadata": {},
   "outputs": [
    {
     "data": {
      "text/html": [
       "<div>\n",
       "<style scoped>\n",
       "    .dataframe tbody tr th:only-of-type {\n",
       "        vertical-align: middle;\n",
       "    }\n",
       "\n",
       "    .dataframe tbody tr th {\n",
       "        vertical-align: top;\n",
       "    }\n",
       "\n",
       "    .dataframe thead th {\n",
       "        text-align: right;\n",
       "    }\n",
       "</style>\n",
       "<table border=\"1\" class=\"dataframe\">\n",
       "  <thead>\n",
       "    <tr style=\"text-align: right;\">\n",
       "      <th></th>\n",
       "      <th>﻿type</th>\n",
       "      <th>content</th>\n",
       "    </tr>\n",
       "  </thead>\n",
       "  <tbody>\n",
       "    <tr>\n",
       "      <th>5</th>\n",
       "      <td>p</td>\n",
       "      <td>ঢাকার ইতিহাস।</td>\n",
       "    </tr>\n",
       "    <tr>\n",
       "      <th>6</th>\n",
       "      <td>p</td>\n",
       "      <td>ভিভীক্স শব?\\n( প্রাচীনকাল হইতে মোসলমানাগমনের প...</td>\n",
       "    </tr>\n",
       "    <tr>\n",
       "      <th>7</th>\n",
       "      <td>p</td>\n",
       "      <td>৫৯০৫১</td>\n",
       "    </tr>\n",
       "    <tr>\n",
       "      <th>8</th>\n",
       "      <td>p</td>\n",
       "      <td>স্রীযতীন্দ্র মোহন রায় প্রণীত।</td>\n",
       "    </tr>\n",
       "    <tr>\n",
       "      <th>9</th>\n",
       "      <td>p</td>\n",
       "      <td>৩</td>\n",
       "    </tr>\n",
       "  </tbody>\n",
       "</table>\n",
       "</div>"
      ],
      "text/plain": [
       "  ﻿type                                            content\n",
       "5     p                                      ঢাকার ইতিহাস।\n",
       "6     p  ভিভীক্স শব?\\n( প্রাচীনকাল হইতে মোসলমানাগমনের প...\n",
       "7     p                                              ৫৯০৫১\n",
       "8     p                     স্রীযতীন্দ্র মোহন রায় প্রণীত।\n",
       "9     p                                                  ৩"
      ]
     },
     "execution_count": 10,
     "metadata": {},
     "output_type": "execute_result"
    }
   ],
   "source": [
    "df.head()"
   ]
  },
  {
   "cell_type": "code",
   "execution_count": 11,
   "id": "d5b6870c",
   "metadata": {},
   "outputs": [],
   "source": [
    "# df = df[['type','content']]"
   ]
  },
  {
   "cell_type": "code",
   "execution_count": 12,
   "id": "b8c5e2b8",
   "metadata": {},
   "outputs": [],
   "source": [
    "rows_with_nan = df[df.isna().any(axis=1)]"
   ]
  },
  {
   "cell_type": "code",
   "execution_count": 13,
   "id": "5332a088",
   "metadata": {},
   "outputs": [
    {
     "data": {
      "text/html": [
       "<div>\n",
       "<style scoped>\n",
       "    .dataframe tbody tr th:only-of-type {\n",
       "        vertical-align: middle;\n",
       "    }\n",
       "\n",
       "    .dataframe tbody tr th {\n",
       "        vertical-align: top;\n",
       "    }\n",
       "\n",
       "    .dataframe thead th {\n",
       "        text-align: right;\n",
       "    }\n",
       "</style>\n",
       "<table border=\"1\" class=\"dataframe\">\n",
       "  <thead>\n",
       "    <tr style=\"text-align: right;\">\n",
       "      <th></th>\n",
       "      <th>﻿type</th>\n",
       "      <th>content</th>\n",
       "    </tr>\n",
       "  </thead>\n",
       "  <tbody>\n",
       "  </tbody>\n",
       "</table>\n",
       "</div>"
      ],
      "text/plain": [
       "Empty DataFrame\n",
       "Columns: [﻿type, content]\n",
       "Index: []"
      ]
     },
     "execution_count": 13,
     "metadata": {},
     "output_type": "execute_result"
    }
   ],
   "source": [
    "rows_with_nan"
   ]
  },
  {
   "cell_type": "code",
   "execution_count": 14,
   "id": "65fa7ec0",
   "metadata": {},
   "outputs": [],
   "source": [
    "df = df.dropna()"
   ]
  },
  {
   "cell_type": "code",
   "execution_count": 15,
   "id": "b8ae55cf",
   "metadata": {},
   "outputs": [],
   "source": [
    "df.to_csv(\"folder/data.csv\", index=False)"
   ]
  },
  {
   "cell_type": "code",
   "execution_count": 16,
   "id": "35e5b5de",
   "metadata": {},
   "outputs": [
    {
     "name": "stdout",
     "output_type": "stream",
     "text": [
      "Cleaned dataset saved to Dataset.csv\n"
     ]
    }
   ],
   "source": [
    "import pandas as pd\n",
    "import re\n",
    "\n",
    "# Load the Q&A CSV\n",
    "df = pd.read_csv(\"folder/data.csv\")\n",
    "\n",
    "# Only keep the required columns\n",
    "required_columns = ['type','content']\n",
    "df = df[required_columns]\n",
    "\n",
    "# Define Bengali character regex\n",
    "bengali_pattern = r'[\\u0980-\\u09FF]'\n",
    "\n",
    "# Keep rows that have Bengali characters in any of the four fields\n",
    "row_has_bengali = df[required_columns].apply(\n",
    "    lambda row: any(bool(re.search(bengali_pattern, str(cell))) for cell in row), axis=1\n",
    ")\n",
    "df = df[row_has_bengali]\n",
    "\n",
    "# Drop rows with any missing values\n",
    "df = df.dropna()\n",
    "\n",
    "# Text cleaning function\n",
    "def clean_text(text):\n",
    "    if isinstance(text, str):\n",
    "        text = re.sub(r\"https?://\\S+\", \"\", text)  # Remove URLs\n",
    "        text = text.replace(\"\\n\", \" \")  # Remove newlines\n",
    "        text = text.strip()\n",
    "    return text\n",
    "\n",
    "# Apply cleaning only to text columns\n",
    "for col in required_columns:\n",
    "    df[col] = df[col].apply(clean_text)\n",
    "\n",
    "# Save cleaned dataset\n",
    "cleaned_dataset_path = 'Dataset.csv'\n",
    "df.to_csv(cleaned_dataset_path, index=False)\n",
    "print(f\"Cleaned dataset saved to {cleaned_dataset_path}\")\n"
   ]
  },
  {
   "cell_type": "code",
   "execution_count": 17,
   "id": "998cdf9a",
   "metadata": {},
   "outputs": [
    {
     "name": "stdout",
     "output_type": "stream",
     "text": [
      "Strictly cleaned dataset saved to data.csv\n"
     ]
    }
   ],
   "source": [
    "import pandas as pd\n",
    "import re\n",
    "\n",
    "# Load dataset\n",
    "df = pd.read_csv(\"Dataset.csv\")\n",
    "\n",
    "# Keep only required columns\n",
    "columns = ['type','content']\n",
    "df = df[columns]\n",
    "\n",
    "# Regex patterns\n",
    "bengali_pattern = r'[\\u0980-\\u09FF]'\n",
    "emoji_pattern = r'[^\\w\\s\\u0980-\\u09FF.,!?ঃঁৎৗৄৢৣ]\"'  # Keeps mostly Bengali and punctuation\n",
    "url_pattern = r\"https?://\\S+|www\\.\\S+\"\n",
    "latin_pattern = r'[A-Za-z]'\n",
    "repeated_punct = r'[!?।:]{2,}'\n",
    "\n",
    "# Cleaning function\n",
    "def clean_text(text):\n",
    "    if not isinstance(text, str):\n",
    "        return \"\"\n",
    "\n",
    "    text = re.sub(url_pattern, \"\", text)  # Remove URLs\n",
    "    text = re.sub(emoji_pattern, \"\", text)  # Remove emojis and odd chars\n",
    "    text = re.sub(latin_pattern, \"\", text)  # Remove Latin characters\n",
    "    text = re.sub(repeated_punct, \".\", text)  # Normalize repeated punctuation\n",
    "    text = text.replace(\"\\n\", \" \").replace(\"\\r\", \" \")  # Remove newlines\n",
    "    text = re.sub(r'\\s+', ' ', text)  # Remove extra spaces\n",
    "    return text.strip()\n",
    "\n",
    "# Apply cleaning\n",
    "for col in columns:\n",
    "    df[col] = df[col].apply(clean_text)\n",
    "\n",
    "# Filter: must contain sufficient Bengali text\n",
    "def is_valid_bengali(text, min_ratio=0.6):\n",
    "    total_chars = len(text)\n",
    "    bengali_chars = len(re.findall(bengali_pattern, text))\n",
    "    return total_chars > 0 and (bengali_chars / total_chars) >= min_ratio\n",
    "\n",
    "# Drop rows that fail any validation\n",
    "df = df[\n",
    "    df['type'].apply(lambda x: is_valid_bengali(x) and len(x) >= 10) &\n",
    "    df['content'].apply(lambda x: is_valid_bengali(x) and len(x) >= 10)\n",
    "]\n",
    "\n",
    "# Drop rows with NaNs\n",
    "df = df.dropna()\n",
    "\n",
    "# Save cleaned dataset\n",
    "output_path = \"data.csv\"\n",
    "df.to_csv(output_path, index=False)\n",
    "print(f\"Strictly cleaned dataset saved to {output_path}\")"
   ]
  },
  {
   "cell_type": "code",
   "execution_count": 18,
   "id": "4391d033",
   "metadata": {},
   "outputs": [
    {
     "name": "stdout",
     "output_type": "stream",
     "text": [
      "       type                                            content\n",
      "0         p                                      ঢাকার ইতিহাস।\n",
      "1         p  ভিভীক্স শব? ( প্রাচীনকাল হইতে মোসলমানাগমনের পূ...\n",
      "2         p                                              ৫৯০৫১\n",
      "3         p                     স্রীযতীন্দ্র মোহন রায় প্রণীত।\n",
      "4         p                                                  ৩\n",
      "...     ...                                                ...\n",
      "146129    p  ↑ \"জাবালে নূরের মালিক-চালকের বিরুদ্ধে অভিযোগপত...\n",
      "146130    p  ↑ \"জাবালে নূর বাস মালিকের হাইকোর্টে জামিন\"। কা...\n",
      "146131    p  বহিঃসংযোগ[সম্পাদনা] নিরাপদ সড়ক আন্দোলনের বিশদ...\n",
      "146132    p  ইউটিউবে Students take to streets for 7th day, ...\n",
      "146133    p  এ পৃষ্ঠায় শেষ পরিবর্তন হয়েছিল ০২:১৯টার সময়,...\n",
      "\n",
      "[146134 rows x 2 columns]\n",
      "Empty DataFrame\n",
      "Columns: [type, content]\n",
      "Index: []\n",
      "--------------------------------\n",
      "(146134, 2)\n",
      "(0, 2)\n"
     ]
    }
   ],
   "source": [
    "df1 = pd.read_csv(\"Dataset.csv\")\n",
    "df2 = pd.read_csv(\"data.csv\")\n",
    "\n",
    "print(df1)\n",
    "print(df2)\n",
    "print(\"--------------------------------\")\n",
    "print(df1.shape)\n",
    "print(df2.shape)"
   ]
  },
  {
   "cell_type": "code",
   "execution_count": 19,
   "id": "91b5523b",
   "metadata": {},
   "outputs": [
    {
     "data": {
      "text/html": [
       "<div>\n",
       "<style scoped>\n",
       "    .dataframe tbody tr th:only-of-type {\n",
       "        vertical-align: middle;\n",
       "    }\n",
       "\n",
       "    .dataframe tbody tr th {\n",
       "        vertical-align: top;\n",
       "    }\n",
       "\n",
       "    .dataframe thead th {\n",
       "        text-align: right;\n",
       "    }\n",
       "</style>\n",
       "<table border=\"1\" class=\"dataframe\">\n",
       "  <thead>\n",
       "    <tr style=\"text-align: right;\">\n",
       "      <th></th>\n",
       "      <th>type</th>\n",
       "      <th>content</th>\n",
       "    </tr>\n",
       "  </thead>\n",
       "  <tbody>\n",
       "    <tr>\n",
       "      <th>0</th>\n",
       "      <td>p</td>\n",
       "      <td>ঢাকার ইতিহাস।</td>\n",
       "    </tr>\n",
       "    <tr>\n",
       "      <th>1</th>\n",
       "      <td>p</td>\n",
       "      <td>ভিভীক্স শব? ( প্রাচীনকাল হইতে মোসলমানাগমনের পূ...</td>\n",
       "    </tr>\n",
       "    <tr>\n",
       "      <th>2</th>\n",
       "      <td>p</td>\n",
       "      <td>৫৯০৫১</td>\n",
       "    </tr>\n",
       "    <tr>\n",
       "      <th>3</th>\n",
       "      <td>p</td>\n",
       "      <td>স্রীযতীন্দ্র মোহন রায় প্রণীত।</td>\n",
       "    </tr>\n",
       "    <tr>\n",
       "      <th>4</th>\n",
       "      <td>p</td>\n",
       "      <td>৩</td>\n",
       "    </tr>\n",
       "  </tbody>\n",
       "</table>\n",
       "</div>"
      ],
      "text/plain": [
       "  type                                            content\n",
       "0    p                                      ঢাকার ইতিহাস।\n",
       "1    p  ভিভীক্স শব? ( প্রাচীনকাল হইতে মোসলমানাগমনের পূ...\n",
       "2    p                                              ৫৯০৫১\n",
       "3    p                     স্রীযতীন্দ্র মোহন রায় প্রণীত।\n",
       "4    p                                                  ৩"
      ]
     },
     "execution_count": 19,
     "metadata": {},
     "output_type": "execute_result"
    }
   ],
   "source": [
    "df1.head()"
   ]
  },
  {
   "cell_type": "code",
   "execution_count": 20,
   "id": "6622c9e5",
   "metadata": {},
   "outputs": [
    {
     "data": {
      "text/plain": [
       "type       0\n",
       "content    0\n",
       "dtype: int64"
      ]
     },
     "execution_count": 20,
     "metadata": {},
     "output_type": "execute_result"
    }
   ],
   "source": [
    "df1.isnull().sum()"
   ]
  },
  {
   "cell_type": "code",
   "execution_count": 21,
   "id": "ad2cb921",
   "metadata": {},
   "outputs": [],
   "source": [
    "import pandas as pd\n",
    "import re\n",
    "\n",
    "df = pd.read_csv(\"Dataset.csv\")"
   ]
  },
  {
   "cell_type": "code",
   "execution_count": 22,
   "id": "592296ae",
   "metadata": {},
   "outputs": [],
   "source": [
    "# Bengali digits\n",
    "bengali_digits = '০১২৩৪৫৬৭৮৯'\n",
    "only_bengali_digits_pattern = f'^[{bengali_digits}]+$'\n",
    "\n",
    "# Function: Check if content is made ONLY of Bengali numbers (no other text/symbols)\n",
    "def is_only_bengali_number(text):\n",
    "    return bool(re.fullmatch(only_bengali_digits_pattern, str(text).strip()))\n",
    "\n",
    "# Remove rows from df where 'content' is only Bengali numbers\n",
    "df_cleaned = df[~df['content'].apply(is_only_bengali_number)].copy()\n"
   ]
  },
  {
   "cell_type": "code",
   "execution_count": 23,
   "id": "83ee417e",
   "metadata": {},
   "outputs": [
    {
     "data": {
      "text/html": [
       "<div>\n",
       "<style scoped>\n",
       "    .dataframe tbody tr th:only-of-type {\n",
       "        vertical-align: middle;\n",
       "    }\n",
       "\n",
       "    .dataframe tbody tr th {\n",
       "        vertical-align: top;\n",
       "    }\n",
       "\n",
       "    .dataframe thead th {\n",
       "        text-align: right;\n",
       "    }\n",
       "</style>\n",
       "<table border=\"1\" class=\"dataframe\">\n",
       "  <thead>\n",
       "    <tr style=\"text-align: right;\">\n",
       "      <th></th>\n",
       "      <th>type</th>\n",
       "      <th>content</th>\n",
       "    </tr>\n",
       "  </thead>\n",
       "  <tbody>\n",
       "    <tr>\n",
       "      <th>0</th>\n",
       "      <td>p</td>\n",
       "      <td>ঢাকার ইতিহাস।</td>\n",
       "    </tr>\n",
       "    <tr>\n",
       "      <th>1</th>\n",
       "      <td>p</td>\n",
       "      <td>ভিভীক্স শব? ( প্রাচীনকাল হইতে মোসলমানাগমনের পূ...</td>\n",
       "    </tr>\n",
       "    <tr>\n",
       "      <th>2</th>\n",
       "      <td>p</td>\n",
       "      <td>৫৯০৫১</td>\n",
       "    </tr>\n",
       "    <tr>\n",
       "      <th>3</th>\n",
       "      <td>p</td>\n",
       "      <td>স্রীযতীন্দ্র মোহন রায় প্রণীত।</td>\n",
       "    </tr>\n",
       "    <tr>\n",
       "      <th>4</th>\n",
       "      <td>p</td>\n",
       "      <td>৩</td>\n",
       "    </tr>\n",
       "  </tbody>\n",
       "</table>\n",
       "</div>"
      ],
      "text/plain": [
       "  type                                            content\n",
       "0    p                                      ঢাকার ইতিহাস।\n",
       "1    p  ভিভীক্স শব? ( প্রাচীনকাল হইতে মোসলমানাগমনের পূ...\n",
       "2    p                                              ৫৯০৫১\n",
       "3    p                     স্রীযতীন্দ্র মোহন রায় প্রণীত।\n",
       "4    p                                                  ৩"
      ]
     },
     "execution_count": 23,
     "metadata": {},
     "output_type": "execute_result"
    }
   ],
   "source": [
    "df.head()"
   ]
  },
  {
   "cell_type": "code",
   "execution_count": 24,
   "id": "bf388ae4",
   "metadata": {},
   "outputs": [
    {
     "data": {
      "text/html": [
       "<div>\n",
       "<style scoped>\n",
       "    .dataframe tbody tr th:only-of-type {\n",
       "        vertical-align: middle;\n",
       "    }\n",
       "\n",
       "    .dataframe tbody tr th {\n",
       "        vertical-align: top;\n",
       "    }\n",
       "\n",
       "    .dataframe thead th {\n",
       "        text-align: right;\n",
       "    }\n",
       "</style>\n",
       "<table border=\"1\" class=\"dataframe\">\n",
       "  <thead>\n",
       "    <tr style=\"text-align: right;\">\n",
       "      <th></th>\n",
       "      <th>type</th>\n",
       "      <th>content</th>\n",
       "    </tr>\n",
       "  </thead>\n",
       "  <tbody>\n",
       "    <tr>\n",
       "      <th>0</th>\n",
       "      <td>p</td>\n",
       "      <td>ঢাকার ইতিহাস।</td>\n",
       "    </tr>\n",
       "    <tr>\n",
       "      <th>1</th>\n",
       "      <td>p</td>\n",
       "      <td>ভিভীক্স শব? ( প্রাচীনকাল হইতে মোসলমানাগমনের পূ...</td>\n",
       "    </tr>\n",
       "    <tr>\n",
       "      <th>3</th>\n",
       "      <td>p</td>\n",
       "      <td>স্রীযতীন্দ্র মোহন রায় প্রণীত।</td>\n",
       "    </tr>\n",
       "    <tr>\n",
       "      <th>5</th>\n",
       "      <td>p</td>\n",
       "      <td>__কলিকাতাঁ_ ২৯৭ নং আগার চিৎপুর রোড হইতে শ্রীশশ...</td>\n",
       "    </tr>\n",
       "    <tr>\n",
       "      <th>6</th>\n",
       "      <td>p</td>\n",
       "      <td>১৩২২ বঙ্গাব । ্রন্থকার়ের সর্বস্বত্ব সংরক্ষিত।...</td>\n",
       "    </tr>\n",
       "  </tbody>\n",
       "</table>\n",
       "</div>"
      ],
      "text/plain": [
       "  type                                            content\n",
       "0    p                                      ঢাকার ইতিহাস।\n",
       "1    p  ভিভীক্স শব? ( প্রাচীনকাল হইতে মোসলমানাগমনের পূ...\n",
       "3    p                     স্রীযতীন্দ্র মোহন রায় প্রণীত।\n",
       "5    p  __কলিকাতাঁ_ ২৯৭ নং আগার চিৎপুর রোড হইতে শ্রীশশ...\n",
       "6    p  ১৩২২ বঙ্গাব । ্রন্থকার়ের সর্বস্বত্ব সংরক্ষিত।..."
      ]
     },
     "execution_count": 24,
     "metadata": {},
     "output_type": "execute_result"
    }
   ],
   "source": [
    "df_cleaned.head()"
   ]
  },
  {
   "cell_type": "code",
   "execution_count": 25,
   "id": "89099c37",
   "metadata": {},
   "outputs": [
    {
     "name": "stdout",
     "output_type": "stream",
     "text": [
      "(146134, 2)\n",
      "(144995, 2)\n"
     ]
    }
   ],
   "source": [
    "print(df.shape)\n",
    "print(df_cleaned.shape)"
   ]
  },
  {
   "cell_type": "code",
   "execution_count": 26,
   "id": "f09d6530",
   "metadata": {},
   "outputs": [],
   "source": [
    "df_cleaned.to_csv(\"cleaned_data.csv\", index=False)"
   ]
  },
  {
   "cell_type": "code",
   "execution_count": 27,
   "id": "68a9cd10",
   "metadata": {},
   "outputs": [
    {
     "data": {
      "text/html": [
       "<div>\n",
       "<style scoped>\n",
       "    .dataframe tbody tr th:only-of-type {\n",
       "        vertical-align: middle;\n",
       "    }\n",
       "\n",
       "    .dataframe tbody tr th {\n",
       "        vertical-align: top;\n",
       "    }\n",
       "\n",
       "    .dataframe thead th {\n",
       "        text-align: right;\n",
       "    }\n",
       "</style>\n",
       "<table border=\"1\" class=\"dataframe\">\n",
       "  <thead>\n",
       "    <tr style=\"text-align: right;\">\n",
       "      <th></th>\n",
       "      <th>type</th>\n",
       "      <th>content</th>\n",
       "    </tr>\n",
       "  </thead>\n",
       "  <tbody>\n",
       "    <tr>\n",
       "      <th>0</th>\n",
       "      <td>p</td>\n",
       "      <td>ঢাকার ইতিহাস।</td>\n",
       "    </tr>\n",
       "    <tr>\n",
       "      <th>1</th>\n",
       "      <td>p</td>\n",
       "      <td>ভিভীক্স শব? ( প্রাচীনকাল হইতে মোসলমানাগমনের পূ...</td>\n",
       "    </tr>\n",
       "    <tr>\n",
       "      <th>2</th>\n",
       "      <td>p</td>\n",
       "      <td>৫৯০৫১</td>\n",
       "    </tr>\n",
       "    <tr>\n",
       "      <th>3</th>\n",
       "      <td>p</td>\n",
       "      <td>স্রীযতীন্দ্র মোহন রায় প্রণীত।</td>\n",
       "    </tr>\n",
       "    <tr>\n",
       "      <th>4</th>\n",
       "      <td>p</td>\n",
       "      <td>৩</td>\n",
       "    </tr>\n",
       "  </tbody>\n",
       "</table>\n",
       "</div>"
      ],
      "text/plain": [
       "  type                                            content\n",
       "0    p                                      ঢাকার ইতিহাস।\n",
       "1    p  ভিভীক্স শব? ( প্রাচীনকাল হইতে মোসলমানাগমনের পূ...\n",
       "2    p                                              ৫৯০৫১\n",
       "3    p                     স্রীযতীন্দ্র মোহন রায় প্রণীত।\n",
       "4    p                                                  ৩"
      ]
     },
     "execution_count": 27,
     "metadata": {},
     "output_type": "execute_result"
    }
   ],
   "source": [
    "dft = pd.read_csv(\"Dataset.csv\")\n",
    "\n",
    "dft.head()"
   ]
  },
  {
   "cell_type": "code",
   "execution_count": 28,
   "id": "6dca9fe0",
   "metadata": {},
   "outputs": [
    {
     "data": {
      "text/html": [
       "<div>\n",
       "<style scoped>\n",
       "    .dataframe tbody tr th:only-of-type {\n",
       "        vertical-align: middle;\n",
       "    }\n",
       "\n",
       "    .dataframe tbody tr th {\n",
       "        vertical-align: top;\n",
       "    }\n",
       "\n",
       "    .dataframe thead th {\n",
       "        text-align: right;\n",
       "    }\n",
       "</style>\n",
       "<table border=\"1\" class=\"dataframe\">\n",
       "  <thead>\n",
       "    <tr style=\"text-align: right;\">\n",
       "      <th></th>\n",
       "      <th>type</th>\n",
       "      <th>content</th>\n",
       "    </tr>\n",
       "  </thead>\n",
       "  <tbody>\n",
       "    <tr>\n",
       "      <th>0</th>\n",
       "      <td>p</td>\n",
       "      <td>ঢাকার ইতিহাস।</td>\n",
       "    </tr>\n",
       "    <tr>\n",
       "      <th>1</th>\n",
       "      <td>p</td>\n",
       "      <td>ভিভীক্স শব? ( প্রাচীনকাল হইতে মোসলমানাগমনের পূ...</td>\n",
       "    </tr>\n",
       "    <tr>\n",
       "      <th>2</th>\n",
       "      <td>p</td>\n",
       "      <td>স্রীযতীন্দ্র মোহন রায় প্রণীত।</td>\n",
       "    </tr>\n",
       "    <tr>\n",
       "      <th>3</th>\n",
       "      <td>p</td>\n",
       "      <td>__কলিকাতাঁ_ ২৯৭ নং আগার চিৎপুর রোড হইতে শ্রীশশ...</td>\n",
       "    </tr>\n",
       "    <tr>\n",
       "      <th>4</th>\n",
       "      <td>p</td>\n",
       "      <td>১৩২২ বঙ্গাব । ্রন্থকার়ের সর্বস্বত্ব সংরক্ষিত।...</td>\n",
       "    </tr>\n",
       "  </tbody>\n",
       "</table>\n",
       "</div>"
      ],
      "text/plain": [
       "  type                                            content\n",
       "0    p                                      ঢাকার ইতিহাস।\n",
       "1    p  ভিভীক্স শব? ( প্রাচীনকাল হইতে মোসলমানাগমনের পূ...\n",
       "2    p                     স্রীযতীন্দ্র মোহন রায় প্রণীত।\n",
       "3    p  __কলিকাতাঁ_ ২৯৭ নং আগার চিৎপুর রোড হইতে শ্রীশশ...\n",
       "4    p  ১৩২২ বঙ্গাব । ্রন্থকার়ের সর্বস্বত্ব সংরক্ষিত।..."
      ]
     },
     "execution_count": 28,
     "metadata": {},
     "output_type": "execute_result"
    }
   ],
   "source": [
    "dft = pd.read_csv(\"cleaned_data.csv\",)\n",
    "\n",
    "dft.head()"
   ]
  },
  {
   "cell_type": "code",
   "execution_count": 29,
   "id": "701d8bdc",
   "metadata": {},
   "outputs": [
    {
     "data": {
      "text/plain": [
       "(144995, 2)"
      ]
     },
     "execution_count": 29,
     "metadata": {},
     "output_type": "execute_result"
    }
   ],
   "source": [
    "dft.shape"
   ]
  },
  {
   "cell_type": "code",
   "execution_count": 32,
   "id": "7ce553de",
   "metadata": {},
   "outputs": [],
   "source": [
    "import pandas as pd\n",
    "from sklearn.model_selection import train_test_split\n",
    "\n",
    "df = pd.read_csv('cleaned_data.csv')\n",
    "\n",
    "df_train, df_temp = train_test_split(df, test_size=0.03, random_state=42, shuffle=True)\n",
    "\n",
    "df_train.to_csv(\"sData/df_train.csv\", index=False)\n",
    "df_temp.to_csv(\"sData/df_temp.csv\", index=False)\n"
   ]
  },
  {
   "cell_type": "code",
   "execution_count": 33,
   "id": "cf0aa5dd",
   "metadata": {},
   "outputs": [
    {
     "data": {
      "text/plain": [
       "(140645, 2)"
      ]
     },
     "execution_count": 33,
     "metadata": {},
     "output_type": "execute_result"
    }
   ],
   "source": [
    "df_train.shape"
   ]
  },
  {
   "cell_type": "code",
   "execution_count": 34,
   "id": "c5010b9c",
   "metadata": {},
   "outputs": [
    {
     "data": {
      "text/plain": [
       "(4350, 2)"
      ]
     },
     "execution_count": 34,
     "metadata": {},
     "output_type": "execute_result"
    }
   ],
   "source": [
    "df_temp.shape"
   ]
  },
  {
   "cell_type": "code",
   "execution_count": 42,
   "id": "f70bdf9f",
   "metadata": {},
   "outputs": [
    {
     "data": {
      "text/html": [
       "<div>\n",
       "<style scoped>\n",
       "    .dataframe tbody tr th:only-of-type {\n",
       "        vertical-align: middle;\n",
       "    }\n",
       "\n",
       "    .dataframe tbody tr th {\n",
       "        vertical-align: top;\n",
       "    }\n",
       "\n",
       "    .dataframe thead th {\n",
       "        text-align: right;\n",
       "    }\n",
       "</style>\n",
       "<table border=\"1\" class=\"dataframe\">\n",
       "  <thead>\n",
       "    <tr style=\"text-align: right;\">\n",
       "      <th></th>\n",
       "      <th>type</th>\n",
       "      <th>content</th>\n",
       "      <th>title</th>\n",
       "      <th>context</th>\n",
       "      <th>label</th>\n",
       "      <th>class</th>\n",
       "    </tr>\n",
       "  </thead>\n",
       "  <tbody>\n",
       "    <tr>\n",
       "      <th>0</th>\n",
       "      <td>p</td>\n",
       "      <td>২৮ ক্রায়ার, ২য় খণ্ড, পৃ. ১১৯।</td>\n",
       "      <td>&lt;extra_id_0&gt;. ) &lt;extra_id_34&gt;</td>\n",
       "      <td>&lt;extra_id_0&gt;. ) &lt;extra_id_34&gt;.খণ্ড.</td>\n",
       "      <td>neutral</td>\n",
       "      <td>news</td>\n",
       "    </tr>\n",
       "    <tr>\n",
       "      <th>1</th>\n",
       "      <td>p</td>\n",
       "      <td>সাভাই হইতে এই বংণের গণনা হইয়া থাকেণ।' সাভাইয়...</td>\n",
       "      <td>&lt;extra_id_0&gt;।' বিষয়ের তিন পুত--</td>\n",
       "      <td>&lt;extra_id_0&gt;।' বিষয়ের তিন পুত--</td>\n",
       "      <td>neutral</td>\n",
       "      <td>news</td>\n",
       "    </tr>\n",
       "    <tr>\n",
       "      <th>2</th>\n",
       "      <td>p</td>\n",
       "      <td>২২ ঢাকার ইতিহাস। [২য়খণ্ড</td>\n",
       "      <td>&lt;extra_id_0&gt;। &lt;extra_id_10&gt;ুন</td>\n",
       "      <td>&lt;extra_id_0&gt;। &lt;extra_id_10&gt;ুন বিস্তারিত.: &lt;ext...</td>\n",
       "      <td>neutral</td>\n",
       "      <td>history</td>\n",
       "    </tr>\n",
       "    <tr>\n",
       "      <th>3</th>\n",
       "      <td>p</td>\n",
       "      <td>বিদ্যাপতি ৮-ত্বঙ্টীঘ পঞ্চদশ শত্বাবীব প্রারত্তে...</td>\n",
       "      <td>&lt;extra_id_0&gt;।,।</td>\n",
       "      <td>&lt;extra_id_0&gt;।,।,..)।</td>\n",
       "      <td>neutral</td>\n",
       "      <td>news</td>\n",
       "    </tr>\n",
       "    <tr>\n",
       "      <th>4</th>\n",
       "      <td>p</td>\n",
       "      <td>মণিপুরের ইতিহাস। ৭৯</td>\n",
       "      <td>&lt;extra_id_0&gt; । ) &lt;extra_id_34&gt; ।</td>\n",
       "      <td>&lt;extra_id_0&gt; । ) &lt;extra_id_34&gt; । ২৪.</td>\n",
       "      <td>neutral</td>\n",
       "      <td>history</td>\n",
       "    </tr>\n",
       "  </tbody>\n",
       "</table>\n",
       "</div>"
      ],
      "text/plain": [
       "  type                                            content  \\\n",
       "0    p                    ২৮ ক্রায়ার, ২য় খণ্ড, পৃ. ১১৯।   \n",
       "1    p  সাভাই হইতে এই বংণের গণনা হইয়া থাকেণ।' সাভাইয়...   \n",
       "2    p                          ২২ ঢাকার ইতিহাস। [২য়খণ্ড   \n",
       "3    p  বিদ্যাপতি ৮-ত্বঙ্টীঘ পঞ্চদশ শত্বাবীব প্রারত্তে...   \n",
       "4    p                                মণিপুরের ইতিহাস। ৭৯   \n",
       "\n",
       "                              title  \\\n",
       "0     <extra_id_0>. ) <extra_id_34>   \n",
       "1  <extra_id_0>।' বিষয়ের তিন পুত--   \n",
       "2     <extra_id_0>। <extra_id_10>ুন   \n",
       "3                   <extra_id_0>।,।   \n",
       "4  <extra_id_0> । ) <extra_id_34> ।   \n",
       "\n",
       "                                             context    label    class  \n",
       "0                <extra_id_0>. ) <extra_id_34>.খণ্ড.  neutral     news  \n",
       "1                   <extra_id_0>।' বিষয়ের তিন পুত--  neutral     news  \n",
       "2  <extra_id_0>। <extra_id_10>ুন বিস্তারিত.: <ext...  neutral  history  \n",
       "3                               <extra_id_0>।,।,..)।  neutral     news  \n",
       "4               <extra_id_0> । ) <extra_id_34> । ২৪.  neutral  history  "
      ]
     },
     "execution_count": 42,
     "metadata": {},
     "output_type": "execute_result"
    }
   ],
   "source": [
    "data = pd.read_csv(\"preprocessed_bengali_data.csv\")\n",
    "\n",
    "data.head()"
   ]
  },
  {
   "cell_type": "code",
   "execution_count": 44,
   "id": "d3c9a4f0",
   "metadata": {},
   "outputs": [
    {
     "data": {
      "text/plain": [
       "label\n",
       "neutral    4350\n",
       "Name: count, dtype: int64"
      ]
     },
     "execution_count": 44,
     "metadata": {},
     "output_type": "execute_result"
    }
   ],
   "source": [
    "data['label'].value_counts()"
   ]
  },
  {
   "cell_type": "code",
   "execution_count": 45,
   "id": "4b80bdca",
   "metadata": {},
   "outputs": [
    {
     "data": {
      "text/plain": [
       "class\n",
       "news          3636\n",
       "history        467\n",
       "philosophy     182\n",
       "text_book       56\n",
       "story            9\n",
       "Name: count, dtype: int64"
      ]
     },
     "execution_count": 45,
     "metadata": {},
     "output_type": "execute_result"
    }
   ],
   "source": [
    "data['class'].value_counts()"
   ]
  },
  {
   "cell_type": "code",
   "execution_count": 47,
   "id": "cf22fb5b",
   "metadata": {},
   "outputs": [
    {
     "data": {
      "text/html": [
       "<div>\n",
       "<style scoped>\n",
       "    .dataframe tbody tr th:only-of-type {\n",
       "        vertical-align: middle;\n",
       "    }\n",
       "\n",
       "    .dataframe tbody tr th {\n",
       "        vertical-align: top;\n",
       "    }\n",
       "\n",
       "    .dataframe thead th {\n",
       "        text-align: right;\n",
       "    }\n",
       "</style>\n",
       "<table border=\"1\" class=\"dataframe\">\n",
       "  <thead>\n",
       "    <tr style=\"text-align: right;\">\n",
       "      <th></th>\n",
       "      <th>type</th>\n",
       "      <th>content</th>\n",
       "      <th>title</th>\n",
       "      <th>context</th>\n",
       "      <th>label</th>\n",
       "      <th>class</th>\n",
       "    </tr>\n",
       "  </thead>\n",
       "  <tbody>\n",
       "    <tr>\n",
       "      <th>0</th>\n",
       "      <td>p</td>\n",
       "      <td>২৮ ক্রায়ার, ২য় খণ্ড, পৃ. ১১৯।</td>\n",
       "      <td>২৮ ক্রায়ার, ২য় খণ্ড, পৃ. ১১৯</td>\n",
       "      <td>২৮ ক্রায়ার, ২য় খণ্ড, পৃ. ১১৯।</td>\n",
       "      <td>neutral</td>\n",
       "      <td>news</td>\n",
       "    </tr>\n",
       "    <tr>\n",
       "      <th>1</th>\n",
       "      <td>p</td>\n",
       "      <td>সাভাই হইতে এই বংণের গণনা হইয়া থাকেণ।' সাভাইয়...</td>\n",
       "      <td>সাভাই হইতে এই বংণের গণনা হইয়া থাকেণ</td>\n",
       "      <td>সাভাই হইতে এই বংণের গণনা হইয়া থাকেণ। ' সাভাইয...</td>\n",
       "      <td>positive</td>\n",
       "      <td>news</td>\n",
       "    </tr>\n",
       "    <tr>\n",
       "      <th>2</th>\n",
       "      <td>p</td>\n",
       "      <td>২২ ঢাকার ইতিহাস। [২য়খণ্ড</td>\n",
       "      <td>২২ ঢাকার ইতিহাস</td>\n",
       "      <td>২২ ঢাকার ইতিহাস।</td>\n",
       "      <td>positive</td>\n",
       "      <td>history</td>\n",
       "    </tr>\n",
       "    <tr>\n",
       "      <th>3</th>\n",
       "      <td>p</td>\n",
       "      <td>বিদ্যাপতি ৮-ত্বঙ্টীঘ পঞ্চদশ শত্বাবীব প্রারত্তে...</td>\n",
       "      <td>বিদ্যাপতি ৮-ত্বঙ্টীঘ পঞ্চদশ শত্বাবীব প্রারত্তে...</td>\n",
       "      <td>বিদ্যাপতি ৮-ত্বঙ্টীঘ পঞ্চদশ শত্বাবীব প্রারত্তে...</td>\n",
       "      <td>positive</td>\n",
       "      <td>news</td>\n",
       "    </tr>\n",
       "    <tr>\n",
       "      <th>4</th>\n",
       "      <td>p</td>\n",
       "      <td>মণিপুরের ইতিহাস। ৭৯</td>\n",
       "      <td>মণিপুরের ইতিহাস</td>\n",
       "      <td>মণিপুরের ইতিহাস।</td>\n",
       "      <td>positive</td>\n",
       "      <td>history</td>\n",
       "    </tr>\n",
       "  </tbody>\n",
       "</table>\n",
       "</div>"
      ],
      "text/plain": [
       "  type                                            content  \\\n",
       "0    p                    ২৮ ক্রায়ার, ২য় খণ্ড, পৃ. ১১৯।   \n",
       "1    p  সাভাই হইতে এই বংণের গণনা হইয়া থাকেণ।' সাভাইয়...   \n",
       "2    p                          ২২ ঢাকার ইতিহাস। [২য়খণ্ড   \n",
       "3    p  বিদ্যাপতি ৮-ত্বঙ্টীঘ পঞ্চদশ শত্বাবীব প্রারত্তে...   \n",
       "4    p                                মণিপুরের ইতিহাস। ৭৯   \n",
       "\n",
       "                                               title  \\\n",
       "0                     ২৮ ক্রায়ার, ২য় খণ্ড, পৃ. ১১৯   \n",
       "1               সাভাই হইতে এই বংণের গণনা হইয়া থাকেণ   \n",
       "2                                    ২২ ঢাকার ইতিহাস   \n",
       "3  বিদ্যাপতি ৮-ত্বঙ্টীঘ পঞ্চদশ শত্বাবীব প্রারত্তে...   \n",
       "4                                    মণিপুরের ইতিহাস   \n",
       "\n",
       "                                             context     label    class  \n",
       "0                    ২৮ ক্রায়ার, ২য় খণ্ড, পৃ. ১১৯।   neutral     news  \n",
       "1  সাভাই হইতে এই বংণের গণনা হইয়া থাকেণ। ' সাভাইয...  positive     news  \n",
       "2                                   ২২ ঢাকার ইতিহাস।  positive  history  \n",
       "3  বিদ্যাপতি ৮-ত্বঙ্টীঘ পঞ্চদশ শত্বাবীব প্রারত্তে...  positive     news  \n",
       "4                                   মণিপুরের ইতিহাস।  positive  history  "
      ]
     },
     "execution_count": 47,
     "metadata": {},
     "output_type": "execute_result"
    }
   ],
   "source": [
    "data = pd.read_csv(\"preprocessed_data.csv\")\n",
    "\n",
    "data.head()"
   ]
  },
  {
   "cell_type": "code",
   "execution_count": 48,
   "id": "304d086a",
   "metadata": {},
   "outputs": [
    {
     "data": {
      "text/plain": [
       "label\n",
       "negative    2165\n",
       "positive    1521\n",
       "neutral      664\n",
       "Name: count, dtype: int64"
      ]
     },
     "execution_count": 48,
     "metadata": {},
     "output_type": "execute_result"
    }
   ],
   "source": [
    "data['label'].value_counts()"
   ]
  },
  {
   "cell_type": "code",
   "execution_count": 49,
   "id": "c595bdad",
   "metadata": {},
   "outputs": [
    {
     "data": {
      "text/plain": [
       "class\n",
       "news          3636\n",
       "history        467\n",
       "philosophy     182\n",
       "text_book       56\n",
       "story            9\n",
       "Name: count, dtype: int64"
      ]
     },
     "execution_count": 49,
     "metadata": {},
     "output_type": "execute_result"
    }
   ],
   "source": [
    "data['class'].value_counts()"
   ]
  },
  {
   "cell_type": "code",
   "execution_count": 51,
   "id": "4eb09980",
   "metadata": {},
   "outputs": [
    {
     "data": {
      "text/html": [
       "<div>\n",
       "<style scoped>\n",
       "    .dataframe tbody tr th:only-of-type {\n",
       "        vertical-align: middle;\n",
       "    }\n",
       "\n",
       "    .dataframe tbody tr th {\n",
       "        vertical-align: top;\n",
       "    }\n",
       "\n",
       "    .dataframe thead th {\n",
       "        text-align: right;\n",
       "    }\n",
       "</style>\n",
       "<table border=\"1\" class=\"dataframe\">\n",
       "  <thead>\n",
       "    <tr style=\"text-align: right;\">\n",
       "      <th></th>\n",
       "      <th>id</th>\n",
       "      <th>type</th>\n",
       "      <th>content</th>\n",
       "      <th>question</th>\n",
       "      <th>answer</th>\n",
       "    </tr>\n",
       "  </thead>\n",
       "  <tbody>\n",
       "    <tr>\n",
       "      <th>0</th>\n",
       "      <td>2</td>\n",
       "      <td>p</td>\n",
       "      <td>সাভাই হইতে এই বংণের গণনা হইয়া থাকেণ।' সাভাইয়...</td>\n",
       "      <td>এই লেখার মূল বিষয়বস্তু কী?</td>\n",
       "      <td>সাভাই হইতে এই বংণের গণনা হইয়া থাকেণ।' সাভাইয়...</td>\n",
       "    </tr>\n",
       "    <tr>\n",
       "      <th>1</th>\n",
       "      <td>2</td>\n",
       "      <td>p</td>\n",
       "      <td>সাভাই হইতে এই বংণের গণনা হইয়া থাকেণ।' সাভাইয়...</td>\n",
       "      <td>এতে কী ঐতিহাসিক ঘটনা বর্ণনা করা হয়েছে?</td>\n",
       "      <td>সাভাই হইতে এই বংণের গণনা হইয়া থাকেণ।' সাভাইয়...</td>\n",
       "    </tr>\n",
       "    <tr>\n",
       "      <th>2</th>\n",
       "      <td>2</td>\n",
       "      <td>p</td>\n",
       "      <td>সাভাই হইতে এই বংণের গণনা হইয়া থাকেণ।' সাভাইয়...</td>\n",
       "      <td>লেখাটি কোন সময়কাল নিয়ে আলোচনা করে?</td>\n",
       "      <td>সাভাই হইতে এই বংণের গণনা হইয়া থাকেণ।' সাভাইয়...</td>\n",
       "    </tr>\n",
       "    <tr>\n",
       "      <th>3</th>\n",
       "      <td>2</td>\n",
       "      <td>p</td>\n",
       "      <td>সাভাই হইতে এই বংণের গণনা হইয়া থাকেণ।' সাভাইয়...</td>\n",
       "      <td>এতে উল্লেখযোগ্য ব্যক্তি বা ঘটনাবলি কী কী?</td>\n",
       "      <td>সাভাই হইতে এই বংণের গণনা হইয়া থাকেণ।' সাভাইয়...</td>\n",
       "    </tr>\n",
       "    <tr>\n",
       "      <th>4</th>\n",
       "      <td>2</td>\n",
       "      <td>p</td>\n",
       "      <td>সাভাই হইতে এই বংণের গণনা হইয়া থাকেণ।' সাভাইয়...</td>\n",
       "      <td>এর প্রেক্ষাপট কী ছিল?</td>\n",
       "      <td>সাভাই হইতে এই বংণের গণনা হইয়া থাকেণ।' সাভাইয়...</td>\n",
       "    </tr>\n",
       "    <tr>\n",
       "      <th>5</th>\n",
       "      <td>4</td>\n",
       "      <td>p</td>\n",
       "      <td>বিদ্যাপতি ৮-ত্বঙ্টীঘ পঞ্চদশ শত্বাবীব প্রারত্তে...</td>\n",
       "      <td>এই লেখার মূল বিষয়বস্তু কী?</td>\n",
       "      <td>বিদ্যাপতি ৮-ত্বঙ্টীঘ পঞ্চদশ শত্বাবীব প্রারত্তে...</td>\n",
       "    </tr>\n",
       "    <tr>\n",
       "      <th>6</th>\n",
       "      <td>4</td>\n",
       "      <td>p</td>\n",
       "      <td>বিদ্যাপতি ৮-ত্বঙ্টীঘ পঞ্চদশ শত্বাবীব প্রারত্তে...</td>\n",
       "      <td>এতে কী ঐতিহাসিক ঘটনা বর্ণনা করা হয়েছে?</td>\n",
       "      <td>বিদ্যাপতি ৮-ত্বঙ্টীঘ পঞ্চদশ শত্বাবীব প্রারত্তে...</td>\n",
       "    </tr>\n",
       "    <tr>\n",
       "      <th>7</th>\n",
       "      <td>4</td>\n",
       "      <td>p</td>\n",
       "      <td>বিদ্যাপতি ৮-ত্বঙ্টীঘ পঞ্চদশ শত্বাবীব প্রারত্তে...</td>\n",
       "      <td>লেখাটি কোন সময়কাল নিয়ে আলোচনা করে?</td>\n",
       "      <td>বিদ্যাপতি ৮-ত্বঙ্টীঘ পঞ্চদশ শত্বাবীব প্রারত্তে...</td>\n",
       "    </tr>\n",
       "    <tr>\n",
       "      <th>8</th>\n",
       "      <td>4</td>\n",
       "      <td>p</td>\n",
       "      <td>বিদ্যাপতি ৮-ত্বঙ্টীঘ পঞ্চদশ শত্বাবীব প্রারত্তে...</td>\n",
       "      <td>এতে উল্লেখযোগ্য ব্যক্তি বা ঘটনাবলি কী কী?</td>\n",
       "      <td>বিদ্যাপতি ৮-ত্বঙ্টীঘ পঞ্চদশ শত্বাবীব প্রারত্তে...</td>\n",
       "    </tr>\n",
       "    <tr>\n",
       "      <th>9</th>\n",
       "      <td>4</td>\n",
       "      <td>p</td>\n",
       "      <td>বিদ্যাপতি ৮-ত্বঙ্টীঘ পঞ্চদশ শত্বাবীব প্রারত্তে...</td>\n",
       "      <td>এর প্রেক্ষাপট কী ছিল?</td>\n",
       "      <td>বিদ্যাপতি ৮-ত্বঙ্টীঘ পঞ্চদশ শত্বাবীব প্রারত্তে...</td>\n",
       "    </tr>\n",
       "    <tr>\n",
       "      <th>10</th>\n",
       "      <td>7</td>\n",
       "      <td>p</td>\n",
       "      <td>কলিকাতা টাউন হলে মুসলিম লীগ সন্ত্রিলনী খুব ধুম...</td>\n",
       "      <td>এই লেখার মূল বিষয়বস্তু কী?</td>\n",
       "      <td>কলিকাতা টাউন হলে মুসলিম লীগ সন্ত্রিলনী খুব ধুম...</td>\n",
       "    </tr>\n",
       "    <tr>\n",
       "      <th>11</th>\n",
       "      <td>7</td>\n",
       "      <td>p</td>\n",
       "      <td>কলিকাতা টাউন হলে মুসলিম লীগ সন্ত্রিলনী খুব ধুম...</td>\n",
       "      <td>এতে কী ঐতিহাসিক ঘটনা বর্ণনা করা হয়েছে?</td>\n",
       "      <td>কলিকাতা টাউন হলে মুসলিম লীগ সন্ত্রিলনী খুব ধুম...</td>\n",
       "    </tr>\n",
       "    <tr>\n",
       "      <th>12</th>\n",
       "      <td>7</td>\n",
       "      <td>p</td>\n",
       "      <td>কলিকাতা টাউন হলে মুসলিম লীগ সন্ত্রিলনী খুব ধুম...</td>\n",
       "      <td>লেখাটি কোন সময়কাল নিয়ে আলোচনা করে?</td>\n",
       "      <td>কলিকাতা টাউন হলে মুসলিম লীগ সন্ত্রিলনী খুব ধুম...</td>\n",
       "    </tr>\n",
       "    <tr>\n",
       "      <th>13</th>\n",
       "      <td>7</td>\n",
       "      <td>p</td>\n",
       "      <td>কলিকাতা টাউন হলে মুসলিম লীগ সন্ত্রিলনী খুব ধুম...</td>\n",
       "      <td>এতে উল্লেখযোগ্য ব্যক্তি বা ঘটনাবলি কী কী?</td>\n",
       "      <td>কলিকাতা টাউন হলে মুসলিম লীগ সন্ত্রিলনী খুব ধুম...</td>\n",
       "    </tr>\n",
       "    <tr>\n",
       "      <th>14</th>\n",
       "      <td>7</td>\n",
       "      <td>p</td>\n",
       "      <td>কলিকাতা টাউন হলে মুসলিম লীগ সন্ত্রিলনী খুব ধুম...</td>\n",
       "      <td>এর প্রেক্ষাপট কী ছিল?</td>\n",
       "      <td>কলিকাতা টাউন হলে মুসলিম লীগ সন্ত্রিলনী খুব ধুম...</td>\n",
       "    </tr>\n",
       "    <tr>\n",
       "      <th>15</th>\n",
       "      <td>9</td>\n",
       "      <td>p</td>\n",
       "      <td>গিরিগাত্রে প্রায় ১০০ বর্গফুটবাপী এক বিরাট উৎক...</td>\n",
       "      <td>এই লেখার মূল বিষয়বস্তু কী?</td>\n",
       "      <td>গিরিগাত্রে প্রায় ১০০ বর্গফুটবাপী এক বিরাট উৎক...</td>\n",
       "    </tr>\n",
       "    <tr>\n",
       "      <th>16</th>\n",
       "      <td>9</td>\n",
       "      <td>p</td>\n",
       "      <td>গিরিগাত্রে প্রায় ১০০ বর্গফুটবাপী এক বিরাট উৎক...</td>\n",
       "      <td>এতে কী ঐতিহাসিক ঘটনা বর্ণনা করা হয়েছে?</td>\n",
       "      <td>গিরিগাত্রে প্রায় ১০০ বর্গফুটবাপী এক বিরাট উৎক...</td>\n",
       "    </tr>\n",
       "    <tr>\n",
       "      <th>17</th>\n",
       "      <td>9</td>\n",
       "      <td>p</td>\n",
       "      <td>গিরিগাত্রে প্রায় ১০০ বর্গফুটবাপী এক বিরাট উৎক...</td>\n",
       "      <td>লেখাটি কোন সময়কাল নিয়ে আলোচনা করে?</td>\n",
       "      <td>গিরিগাত্রে প্রায় ১০০ বর্গফুটবাপী এক বিরাট উৎক...</td>\n",
       "    </tr>\n",
       "    <tr>\n",
       "      <th>18</th>\n",
       "      <td>9</td>\n",
       "      <td>p</td>\n",
       "      <td>গিরিগাত্রে প্রায় ১০০ বর্গফুটবাপী এক বিরাট উৎক...</td>\n",
       "      <td>এতে উল্লেখযোগ্য ব্যক্তি বা ঘটনাবলি কী কী?</td>\n",
       "      <td>গিরিগাত্রে প্রায় ১০০ বর্গফুটবাপী এক বিরাট উৎক...</td>\n",
       "    </tr>\n",
       "    <tr>\n",
       "      <th>19</th>\n",
       "      <td>9</td>\n",
       "      <td>p</td>\n",
       "      <td>গিরিগাত্রে প্রায় ১০০ বর্গফুটবাপী এক বিরাট উৎক...</td>\n",
       "      <td>এর প্রেক্ষাপট কী ছিল?</td>\n",
       "      <td>গিরিগাত্রে প্রায় ১০০ বর্গফুটবাপী এক বিরাট উৎক...</td>\n",
       "    </tr>\n",
       "  </tbody>\n",
       "</table>\n",
       "</div>"
      ],
      "text/plain": [
       "    id type                                            content  \\\n",
       "0    2    p  সাভাই হইতে এই বংণের গণনা হইয়া থাকেণ।' সাভাইয়...   \n",
       "1    2    p  সাভাই হইতে এই বংণের গণনা হইয়া থাকেণ।' সাভাইয়...   \n",
       "2    2    p  সাভাই হইতে এই বংণের গণনা হইয়া থাকেণ।' সাভাইয়...   \n",
       "3    2    p  সাভাই হইতে এই বংণের গণনা হইয়া থাকেণ।' সাভাইয়...   \n",
       "4    2    p  সাভাই হইতে এই বংণের গণনা হইয়া থাকেণ।' সাভাইয়...   \n",
       "5    4    p  বিদ্যাপতি ৮-ত্বঙ্টীঘ পঞ্চদশ শত্বাবীব প্রারত্তে...   \n",
       "6    4    p  বিদ্যাপতি ৮-ত্বঙ্টীঘ পঞ্চদশ শত্বাবীব প্রারত্তে...   \n",
       "7    4    p  বিদ্যাপতি ৮-ত্বঙ্টীঘ পঞ্চদশ শত্বাবীব প্রারত্তে...   \n",
       "8    4    p  বিদ্যাপতি ৮-ত্বঙ্টীঘ পঞ্চদশ শত্বাবীব প্রারত্তে...   \n",
       "9    4    p  বিদ্যাপতি ৮-ত্বঙ্টীঘ পঞ্চদশ শত্বাবীব প্রারত্তে...   \n",
       "10   7    p  কলিকাতা টাউন হলে মুসলিম লীগ সন্ত্রিলনী খুব ধুম...   \n",
       "11   7    p  কলিকাতা টাউন হলে মুসলিম লীগ সন্ত্রিলনী খুব ধুম...   \n",
       "12   7    p  কলিকাতা টাউন হলে মুসলিম লীগ সন্ত্রিলনী খুব ধুম...   \n",
       "13   7    p  কলিকাতা টাউন হলে মুসলিম লীগ সন্ত্রিলনী খুব ধুম...   \n",
       "14   7    p  কলিকাতা টাউন হলে মুসলিম লীগ সন্ত্রিলনী খুব ধুম...   \n",
       "15   9    p  গিরিগাত্রে প্রায় ১০০ বর্গফুটবাপী এক বিরাট উৎক...   \n",
       "16   9    p  গিরিগাত্রে প্রায় ১০০ বর্গফুটবাপী এক বিরাট উৎক...   \n",
       "17   9    p  গিরিগাত্রে প্রায় ১০০ বর্গফুটবাপী এক বিরাট উৎক...   \n",
       "18   9    p  গিরিগাত্রে প্রায় ১০০ বর্গফুটবাপী এক বিরাট উৎক...   \n",
       "19   9    p  গিরিগাত্রে প্রায় ১০০ বর্গফুটবাপী এক বিরাট উৎক...   \n",
       "\n",
       "                                     question  \\\n",
       "0                 এই লেখার মূল বিষয়বস্তু কী?   \n",
       "1     এতে কী ঐতিহাসিক ঘটনা বর্ণনা করা হয়েছে?   \n",
       "2        লেখাটি কোন সময়কাল নিয়ে আলোচনা করে?   \n",
       "3   এতে উল্লেখযোগ্য ব্যক্তি বা ঘটনাবলি কী কী?   \n",
       "4                       এর প্রেক্ষাপট কী ছিল?   \n",
       "5                 এই লেখার মূল বিষয়বস্তু কী?   \n",
       "6     এতে কী ঐতিহাসিক ঘটনা বর্ণনা করা হয়েছে?   \n",
       "7        লেখাটি কোন সময়কাল নিয়ে আলোচনা করে?   \n",
       "8   এতে উল্লেখযোগ্য ব্যক্তি বা ঘটনাবলি কী কী?   \n",
       "9                       এর প্রেক্ষাপট কী ছিল?   \n",
       "10                এই লেখার মূল বিষয়বস্তু কী?   \n",
       "11    এতে কী ঐতিহাসিক ঘটনা বর্ণনা করা হয়েছে?   \n",
       "12       লেখাটি কোন সময়কাল নিয়ে আলোচনা করে?   \n",
       "13  এতে উল্লেখযোগ্য ব্যক্তি বা ঘটনাবলি কী কী?   \n",
       "14                      এর প্রেক্ষাপট কী ছিল?   \n",
       "15                এই লেখার মূল বিষয়বস্তু কী?   \n",
       "16    এতে কী ঐতিহাসিক ঘটনা বর্ণনা করা হয়েছে?   \n",
       "17       লেখাটি কোন সময়কাল নিয়ে আলোচনা করে?   \n",
       "18  এতে উল্লেখযোগ্য ব্যক্তি বা ঘটনাবলি কী কী?   \n",
       "19                      এর প্রেক্ষাপট কী ছিল?   \n",
       "\n",
       "                                               answer  \n",
       "0   সাভাই হইতে এই বংণের গণনা হইয়া থাকেণ।' সাভাইয়...  \n",
       "1   সাভাই হইতে এই বংণের গণনা হইয়া থাকেণ।' সাভাইয়...  \n",
       "2   সাভাই হইতে এই বংণের গণনা হইয়া থাকেণ।' সাভাইয়...  \n",
       "3   সাভাই হইতে এই বংণের গণনা হইয়া থাকেণ।' সাভাইয়...  \n",
       "4   সাভাই হইতে এই বংণের গণনা হইয়া থাকেণ।' সাভাইয়...  \n",
       "5   বিদ্যাপতি ৮-ত্বঙ্টীঘ পঞ্চদশ শত্বাবীব প্রারত্তে...  \n",
       "6   বিদ্যাপতি ৮-ত্বঙ্টীঘ পঞ্চদশ শত্বাবীব প্রারত্তে...  \n",
       "7   বিদ্যাপতি ৮-ত্বঙ্টীঘ পঞ্চদশ শত্বাবীব প্রারত্তে...  \n",
       "8   বিদ্যাপতি ৮-ত্বঙ্টীঘ পঞ্চদশ শত্বাবীব প্রারত্তে...  \n",
       "9   বিদ্যাপতি ৮-ত্বঙ্টীঘ পঞ্চদশ শত্বাবীব প্রারত্তে...  \n",
       "10  কলিকাতা টাউন হলে মুসলিম লীগ সন্ত্রিলনী খুব ধুম...  \n",
       "11  কলিকাতা টাউন হলে মুসলিম লীগ সন্ত্রিলনী খুব ধুম...  \n",
       "12  কলিকাতা টাউন হলে মুসলিম লীগ সন্ত্রিলনী খুব ধুম...  \n",
       "13  কলিকাতা টাউন হলে মুসলিম লীগ সন্ত্রিলনী খুব ধুম...  \n",
       "14  কলিকাতা টাউন হলে মুসলিম লীগ সন্ত্রিলনী খুব ধুম...  \n",
       "15  গিরিগাত্রে প্রায় ১০০ বর্গফুটবাপী এক বিরাট উৎক...  \n",
       "16  গিরিগাত্রে প্রায় ১০০ বর্গফুটবাপী এক বিরাট উৎক...  \n",
       "17  গিরিগাত্রে প্রায় ১০০ বর্গফুটবাপী এক বিরাট উৎক...  \n",
       "18  গিরিগাত্রে প্রায় ১০০ বর্গফুটবাপী এক বিরাট উৎক...  \n",
       "19  গিরিগাত্রে প্রায় ১০০ বর্গফুটবাপী এক বিরাট উৎক...  "
      ]
     },
     "execution_count": 51,
     "metadata": {},
     "output_type": "execute_result"
    }
   ],
   "source": [
    "data = pd.read_csv(\"processed_bengali_qa.csv\")\n",
    "\n",
    "data.head(20)"
   ]
  },
  {
   "cell_type": "code",
   "execution_count": 2,
   "id": "746a6d79",
   "metadata": {},
   "outputs": [],
   "source": [
    "import pandas as pd\n",
    "from sklearn.model_selection import train_test_split\n",
    "\n",
    "df = pd.read_csv('sData/df_temp.csv')\n",
    "\n",
    "df_train, df_temp = train_test_split(df, test_size=0.03, random_state=42, shuffle=True)\n",
    "\n",
    "df_train.to_csv(\"sData/temp1.csv\", index=False)\n",
    "df_temp.to_csv(\"sData/temp2.csv\", index=False)\n"
   ]
  },
  {
   "cell_type": "code",
   "execution_count": 3,
   "id": "c7e48f66",
   "metadata": {},
   "outputs": [
    {
     "name": "stdout",
     "output_type": "stream",
     "text": [
      "(4219, 2)\n",
      "(131, 2)\n"
     ]
    }
   ],
   "source": [
    "print(df_train.shape)\n",
    "print(df_temp.shape)"
   ]
  },
  {
   "cell_type": "code",
   "execution_count": 6,
   "id": "bfa7573f",
   "metadata": {},
   "outputs": [
    {
     "data": {
      "text/html": [
       "<div>\n",
       "<style scoped>\n",
       "    .dataframe tbody tr th:only-of-type {\n",
       "        vertical-align: middle;\n",
       "    }\n",
       "\n",
       "    .dataframe tbody tr th {\n",
       "        vertical-align: top;\n",
       "    }\n",
       "\n",
       "    .dataframe thead th {\n",
       "        text-align: right;\n",
       "    }\n",
       "</style>\n",
       "<table border=\"1\" class=\"dataframe\">\n",
       "  <thead>\n",
       "    <tr style=\"text-align: right;\">\n",
       "      <th></th>\n",
       "      <th>id</th>\n",
       "      <th>type</th>\n",
       "      <th>content</th>\n",
       "      <th>question</th>\n",
       "      <th>answer</th>\n",
       "    </tr>\n",
       "  </thead>\n",
       "  <tbody>\n",
       "    <tr>\n",
       "      <th>0</th>\n",
       "      <td>1</td>\n",
       "      <td>p</td>\n",
       "      <td>কোন ণতাত্বিকের কাছে ব্যাপারটা অদ্ভুত ধংনের, যে...</td>\n",
       "      <td>NaN</td>\n",
       "      <td>NaN</td>\n",
       "    </tr>\n",
       "    <tr>\n",
       "      <th>1</th>\n",
       "      <td>2</td>\n",
       "      <td>p</td>\n",
       "      <td>প্রথম পানৎসার ডিভিশনের আরুমণ সাফল্যমাওত হয় । ...</td>\n",
       "      <td>NaN</td>\n",
       "      <td>NaN</td>\n",
       "    </tr>\n",
       "    <tr>\n",
       "      <th>2</th>\n",
       "      <td>3</td>\n",
       "      <td>p</td>\n",
       "      <td>সুজ্যেয় শ্যাম</td>\n",
       "      <td>NaN</td>\n",
       "      <td>NaN</td>\n",
       "    </tr>\n",
       "    <tr>\n",
       "      <th>3</th>\n",
       "      <td>4</td>\n",
       "      <td>p</td>\n",
       "      <td>এই কথা বলতে বলতে তার আত্মা-পাখী উড়ে গেল। আর অ...</td>\n",
       "      <td>NaN</td>\n",
       "      <td>NaN</td>\n",
       "    </tr>\n",
       "    <tr>\n",
       "      <th>4</th>\n",
       "      <td>5</td>\n",
       "      <td>p</td>\n",
       "      <td>শ্রযুক্ত বাবু শ্রপৎসিংহ দুগর অনেক সভানমিতির সভ...</td>\n",
       "      <td>NaN</td>\n",
       "      <td>NaN</td>\n",
       "    </tr>\n",
       "  </tbody>\n",
       "</table>\n",
       "</div>"
      ],
      "text/plain": [
       "   id type                                            content question answer\n",
       "0   1    p  কোন ণতাত্বিকের কাছে ব্যাপারটা অদ্ভুত ধংনের, যে...      NaN    NaN\n",
       "1   2    p  প্রথম পানৎসার ডিভিশনের আরুমণ সাফল্যমাওত হয় । ...      NaN    NaN\n",
       "2   3    p                                     সুজ্যেয় শ্যাম      NaN    NaN\n",
       "3   4    p  এই কথা বলতে বলতে তার আত্মা-পাখী উড়ে গেল। আর অ...      NaN    NaN\n",
       "4   5    p  শ্রযুক্ত বাবু শ্রপৎসিংহ দুগর অনেক সভানমিতির সভ...      NaN    NaN"
      ]
     },
     "execution_count": 6,
     "metadata": {},
     "output_type": "execute_result"
    }
   ],
   "source": [
    "data = pd.read_csv(\"bengali_llm_qa_output.csv\")\n",
    "\n",
    "data.head()"
   ]
  },
  {
   "cell_type": "code",
   "execution_count": 7,
   "id": "63c96a3b",
   "metadata": {},
   "outputs": [
    {
     "data": {
      "text/plain": [
       "question\n",
       "পণ্য: ৮৯০,৬৯২ টাকা ৫১০৫,৬৭৫,৬৯৮ টাকা,... ১১৮১২৪১৩৯০৬ টাকা, ৫৫৫৫,৫৭৯ টাকা, ৩৩৩ টাকা ৫,৫৬৫,৫৭৯ বুগতা                                                               3\n",
       "এই পাঠ্যাংশ অনুসারে, একটা প্রশ্ন করুন: ১ ৪০০+৮, ২০০০০০% ০৯০৯১০৫ ১০,০৪১০১০১০. ২. ২। ৩.০.৭১৮০৫: ১০১০, ০.২।                                                         3\n",
       "এর মধ্যে উল্লেখযোগ্য ছিল বরিশালের সপ্তক  পরিচয়, সংহতি, হাগুরার \"অভিবাদ\" ইত্যাদি। ১৯৪৪ সালের জুলাই-আন্তের ফ্যাসিবাদ বিরোধী পত্রিকাগুলিও ছিল বাংলায় প্রকাশিত।    2\n",
       "এই অনুচ্ছেদ থেকে প্রশ্ন করুন: সডলের রচিত উদয়নকুন্ডা কাব্যে অভিনন্দ পালকুলচন্দ্র ও বিক্রমশীল নামে পরিচিত। তাঁর পিতার নাম বিক্রমশীল।                              2\n",
       "এই প্রবন্ধ অনুসারে একটি প্রশ্ন করুন: চৌর্য [ রণিকাবচি] নান ট্রাক্স...অকিঞ্চিৎ প্রত্যাবর্তন...।                                                                   2\n",
       "এ ছাড়া, এই পাঠ্যাংশ অনুসারে, গির্জাকে একটা প্রশ্ন দিতে হতো: (৬%৮৬১৫১) অথবা ফসলের এক চতুর্থাংশ (এদ) অথবা কর।                                                     2\n",
       "এই পাঠ্যাংশ অনুসারে একটি প্রশ্ন করুন: ৮ থা ৮০০০১১১০ ০৯০১০১১১০ ০৯০১০১০ ১০৬:১০১০১০ ১০৬ ০৯০১০১০১১১০) ৪,৯০১০১০১১১০ ১০৬ ০৯০১০১০১২                                     2\n",
       "১৭৪১ সালের পুস্তিকা 'জওয়াবিং'-এ 'নভিসিন্দগি' (পৃ. ১৭৯) এ গ্রন্থে 'মন-ই-আকবারী'কে 'মন-ই-আকবারী'তে নিয়ে                                                          2\n",
       "এই পাঠ্যাংশ অনুসারে, একটা প্রশ্ন দিন: ভারসাই-এর সাংধেতে জার্মান প্রাত ইয়োরোপনে প্রাতানাধবগ ব্যবহার করার লক্ষ্য কে।                                              2\n",
       "এই লেখার উপর ভিত্তি করে একটি প্রশ্ন তৈরি করুন: এই প্রশংসিত সন্ন্যাসী মহা প্রভুর মতো লগুকাদ্বীপে অবস্থান করছিলেন। ০২১।                                            2\n",
       "এই অনুচ্ছেদ থেকে প্রশ্ন করুন: এই প্রশংসিত সন্ন্যাসী মহা প্রভুর মতো লগুকাদ্বীপে বাস করতেন। ০২১।                                                                   1\n",
       "এই অনুচ্ছেদ থেকে প্রশ্ন তৈরি করুন: চৌর্য [ রণিকাবচি] নান ট্রাক্স...অকিঞ্চিৎ প্রত্যাবর্তন।                                                                        1\n",
       "এই অনুচ্ছেদ থেকে প্রশ্ন করুন: ৯৫, ৯৭) ২১৬. ০০৪, ২৯৭৯) ৩১০) ৩৭০, ৩৭২, ৩৭৩) ৮০৫, ৫০২, ৫১৬১)।                                                                       1\n",
       "এই অনুচ্ছেদ থেকে প্রশ্ন করুন: ভারসাই-এর সাংধাতে জার্মান প্রাত ইয়োরোপনে প্রাতানাধবগ ব্যবহারের লক্ষ্য কে।                                                         1\n",
       "[৭৬:৬] [১২১৫৭ ৯০১৫০ ১ [১৯১৬:৩৫৯০০: ৭৮১১, এই পোস্টের ওপর ভিত্তি করে একটা প্রশ্ন করুন।                                                                             1\n",
       "[৬:৬১৫] [১২১৫৭ ৯০১৫০ ১ [১৯১৬ ৩৫ ৯০০: ১৭৮১১, এই অনুচ্ছেদ থেকে প্রশ্ন করুন।                                                                                        1\n",
       "এই অনুচ্ছেদ থেকে প্রশ্ন করুন: ১১, শস্তর আল-আজম, নং ১৭৯, 'মন-ই-আকবারী' (ব!) এর মধ্যে 'মন-ই-আকবারী'র গাণিতিক সূত্র আছে                                             1\n",
       "এই অনুচ্ছেদ থেকে প্রশ্ন করুন: ৮ থা ৮০০০১৩৮ ০৯০১০১০১১১০০ (২২৫৫১) ৪৯০১০১০১০ ১০৬১০১০১০ ১০৬ ০৯০১০১০১২ ১০১০১০১২                                                       1\n",
       "এই পাঠ্যাংশ অনুসারে একটি প্রশ্ন করুন:  আমার অনুশোচনা আপনার চেয়ে কম নয়, শক্তিসিংহ, কিন্তু আমি শান্ত।                                                            1\n",
       "০: ১৬১০. ০-৭৩ ৮১০, ৯১০৯১০১৯৯: ২০১০, ৯-১১০, এই শাস্ত্রপদ অনুসারে একটি প্রশ্ন করুন।                                                                                1\n",
       "০: ১৬১০. ০-৭৩ ৮১০, ৯১০৯১০১৯৯: ২০১০, ৯-১১০, এই লেখার উপর ভিত্তি করে একটি প্রশ্ন তৈরি করুন।                                                                        1\n",
       "০: ১৬১০. ০-৭৩ ৮১০, ৯১০৯১০১৯৯: ২০১০, ৯-১১০, এই অনুচ্ছেদ থেকে প্রশ্ন করুন।                                                                                         1\n",
       "[৭৬:৬১৫] [১২১৫৭ ৯০১৫০ ১ [১৯১৬:৩৫৯০০: ৭৮১১, এই পাঠ্যাংশ অনুসারে একটা প্রশ্ন করুন।                                                                                 1\n",
       "এই লেখার ভিত্তিতে একটি প্রশ্ন উত্থাপন করুন: সডল রচিত উদয়নকুন্ডা কাব্যে অভিনন্দ পালকুলচন্দ্র ও বিক্রমশীল নামে পরিচিত। তাঁর পিতার নাম বিক্রমশীল।                  1\n",
       "Name: count, dtype: int64"
      ]
     },
     "execution_count": 7,
     "metadata": {},
     "output_type": "execute_result"
    }
   ],
   "source": [
    "data['question'].value_counts()"
   ]
  },
  {
   "cell_type": "code",
   "execution_count": 8,
   "id": "3e183a24",
   "metadata": {},
   "outputs": [
    {
     "data": {
      "text/plain": [
       "117"
      ]
     },
     "execution_count": 8,
     "metadata": {},
     "output_type": "execute_result"
    }
   ],
   "source": [
    "data['question'].isnull().sum()"
   ]
  },
  {
   "cell_type": "code",
   "execution_count": 9,
   "id": "593ff5f5",
   "metadata": {},
   "outputs": [
    {
     "data": {
      "text/plain": [
       "117"
      ]
     },
     "execution_count": 9,
     "metadata": {},
     "output_type": "execute_result"
    }
   ],
   "source": [
    "data['answer'].isnull().sum()"
   ]
  },
  {
   "cell_type": "code",
   "execution_count": 10,
   "id": "7949429e",
   "metadata": {},
   "outputs": [
    {
     "data": {
      "text/html": [
       "<div>\n",
       "<style scoped>\n",
       "    .dataframe tbody tr th:only-of-type {\n",
       "        vertical-align: middle;\n",
       "    }\n",
       "\n",
       "    .dataframe tbody tr th {\n",
       "        vertical-align: top;\n",
       "    }\n",
       "\n",
       "    .dataframe thead th {\n",
       "        text-align: right;\n",
       "    }\n",
       "</style>\n",
       "<table border=\"1\" class=\"dataframe\">\n",
       "  <thead>\n",
       "    <tr style=\"text-align: right;\">\n",
       "      <th></th>\n",
       "      <th>id</th>\n",
       "      <th>type</th>\n",
       "      <th>content</th>\n",
       "      <th>question</th>\n",
       "      <th>answer</th>\n",
       "    </tr>\n",
       "  </thead>\n",
       "  <tbody>\n",
       "    <tr>\n",
       "      <th>0</th>\n",
       "      <td>1</td>\n",
       "      <td>p</td>\n",
       "      <td>কোন ণতাত্বিকের কাছে ব্যাপারটা অদ্ভুত ধংনের, যে...</td>\n",
       "      <td>এই পাঠ্যাংশ থেকে একটি প্রশ্ন তৈরি করুন: কোন তত...</td>\n",
       "      <td>এই লেখার উপর ভিত্তি করে একটি প্রশ্ন তৈরি করুন:...</td>\n",
       "    </tr>\n",
       "    <tr>\n",
       "      <th>1</th>\n",
       "      <td>2</td>\n",
       "      <td>p</td>\n",
       "      <td>প্রথম পানৎসার ডিভিশনের আরুমণ সাফল্যমাওত হয় । ...</td>\n",
       "      <td>দুপুরের মধ্যে আমরা সেই জায়গা ও শহরের দিকে তাক...</td>\n",
       "      <td>এই লেখার ভিত্তিতে আমরা উত্তর দিয়েছিলাম: আমরা ...</td>\n",
       "    </tr>\n",
       "    <tr>\n",
       "      <th>2</th>\n",
       "      <td>4</td>\n",
       "      <td>p</td>\n",
       "      <td>এই কথা বলতে বলতে তার আত্মা-পাখী উড়ে গেল। আর অ...</td>\n",
       "      <td>এই পাঠ্যাংশ থেকে একটা প্রশ্ন তৈরি করুন: তার আত...</td>\n",
       "      <td>প্রশ্ন: এই পাঠ্যাংশ থেকে একটা প্রশ্ন তৈরি করুন...</td>\n",
       "    </tr>\n",
       "    <tr>\n",
       "      <th>3</th>\n",
       "      <td>5</td>\n",
       "      <td>p</td>\n",
       "      <td>শ্রযুক্ত বাবু শ্রপৎসিংহ দুগর অনেক সভানমিতির সভ...</td>\n",
       "      <td>এই পাঠ্যাংশ থেকে একটি প্রশ্ন তৈরি করুন: শ্রীজি...</td>\n",
       "      <td>এই লেখার ভিত্তিতে একটি প্রশ্ন: শ্রীজিত বাবু শ্...</td>\n",
       "    </tr>\n",
       "    <tr>\n",
       "      <th>4</th>\n",
       "      <td>6</td>\n",
       "      <td>p</td>\n",
       "      <td>সন্ধ্যা ক'ছাক। 5 সময়ে যুগ শুক হলে বিউগলের অ ম...</td>\n",
       "      <td>৯ শন বিবদা ও গোলাগুলি ম্বাশ, যখন শত্রুপক্ষের ব...</td>\n",
       "      <td>৫ শন বিবদা এবং গোলাগুলি ম্বাশ, যখন শত্রুপক্ষের...</td>\n",
       "    </tr>\n",
       "  </tbody>\n",
       "</table>\n",
       "</div>"
      ],
      "text/plain": [
       "   id type                                            content  \\\n",
       "0   1    p  কোন ণতাত্বিকের কাছে ব্যাপারটা অদ্ভুত ধংনের, যে...   \n",
       "1   2    p  প্রথম পানৎসার ডিভিশনের আরুমণ সাফল্যমাওত হয় । ...   \n",
       "2   4    p  এই কথা বলতে বলতে তার আত্মা-পাখী উড়ে গেল। আর অ...   \n",
       "3   5    p  শ্রযুক্ত বাবু শ্রপৎসিংহ দুগর অনেক সভানমিতির সভ...   \n",
       "4   6    p  সন্ধ্যা ক'ছাক। 5 সময়ে যুগ শুক হলে বিউগলের অ ম...   \n",
       "\n",
       "                                            question  \\\n",
       "0  এই পাঠ্যাংশ থেকে একটি প্রশ্ন তৈরি করুন: কোন তত...   \n",
       "1  দুপুরের মধ্যে আমরা সেই জায়গা ও শহরের দিকে তাক...   \n",
       "2  এই পাঠ্যাংশ থেকে একটা প্রশ্ন তৈরি করুন: তার আত...   \n",
       "3  এই পাঠ্যাংশ থেকে একটি প্রশ্ন তৈরি করুন: শ্রীজি...   \n",
       "4  ৯ শন বিবদা ও গোলাগুলি ম্বাশ, যখন শত্রুপক্ষের ব...   \n",
       "\n",
       "                                              answer  \n",
       "0  এই লেখার উপর ভিত্তি করে একটি প্রশ্ন তৈরি করুন:...  \n",
       "1  এই লেখার ভিত্তিতে আমরা উত্তর দিয়েছিলাম: আমরা ...  \n",
       "2  প্রশ্ন: এই পাঠ্যাংশ থেকে একটা প্রশ্ন তৈরি করুন...  \n",
       "3  এই লেখার ভিত্তিতে একটি প্রশ্ন: শ্রীজিত বাবু শ্...  \n",
       "4  ৫ শন বিবদা এবং গোলাগুলি ম্বাশ, যখন শত্রুপক্ষের...  "
      ]
     },
     "execution_count": 10,
     "metadata": {},
     "output_type": "execute_result"
    }
   ],
   "source": [
    "data = pd.read_csv(\"bengali_qa.csv\")\n",
    "\n",
    "data.head()"
   ]
  },
  {
   "cell_type": "code",
   "execution_count": 11,
   "id": "b0c0a152",
   "metadata": {},
   "outputs": [
    {
     "data": {
      "text/plain": [
       "question\n",
       "এই পাঠ্যাংশ থেকে একটি প্রশ্ন তৈরি করুন: কোন তত্ত্বীয়ভাবে এটি অদ্ভুত, যেমন  জার্মান বামপন্থী গণতন্ত্রীরা বলেন যে সাম্রাজ্যিক এবং যুদ্ধ যা জন্ম নিয়েছে তা অ-আগ্রহী, তাই এটি পুঁজিবাদের একটি অবশ্যম্ভাবী ক্রোধ, যা লগমাপুাজর কর্তৃত্বকে গ্রহণ করে।                                                            1\n",
       "এই পাঠ্যাংশ থেকে একটা প্রশ্ন তৈরি করুন: বনের সভ্য রাজার ছবি মনে গেঁথে যায়, সকালে গারদা দিয়ে, যেভাবে তিনি স্সানাহার ব্যায়াম করেন।                                                                                                                                                                          1\n",
       "এই পাঠ্যাংশ থেকে একটি প্রশ্ন তৈরি করুন: ১৯৩৪ সালে রাশিয়ার প্রথম পাঁচ-বারের মতো পরিকল্পনা সম্পন্ন হয়েছে - - পরিস্থিতি এখন উত্তপ্ত,  দেশ,  এর উপর নির্মম হত্যা এবং নির্যাতন শুরু করেছে।                                                                                                                      1\n",
       "তার সামনে, সে একটা বড় বরফের ওপর দিয়ে দৌড়ে গেল, হু তুং-শেং, দেখে মনে হলো সে বরফের মধ্যে দিয়ে এক পা এগিয়ে যাচ্ছে।                                                                                                                                                                                         1\n",
       "এই পাঠ্যাংশ থেকে একটি প্রশ্ন তৈরি করুন: ১ ৪০০+৮, ২০০০০০% ০৯০৯১০৫ ১০,০১৮০৮১ ০৬০৯৯১১১০১০. ২. ২।                                                                                                                                                                                                                1\n",
       "                                                                                                                                                                                                                                                                                                            ..\n",
       "এই পাঠ্যাংশ থেকে একটি প্রশ্ন তৈরি করুন: ৮:০০১০০ (০৯০০১১১১০) ৪:০০১০১০:১০১০১০ ১১১০১, ০৯০১০১০১২ ০:১০১০১:১০১০১) ৪,৯০১০১০১০১০ ১০৬০৫ ০১০১০১১১০১                                                                                                                                                                    1\n",
       "কিন্তু এর কারণ ছিল যে, সমাসকে উদয়পুর থেকে তাঁর পুত্রের সঙ্গে বসতি স্থাপন করতে হয়নি। কারণ, তিনি নিজে বা লক্ষ্মণ মাণিক্যকে ত্রিপুরায় সিংহাসনে আরোহণের জন্য কোনো পরিকল্পনা করেননি।                                                                                                                           1\n",
       "এই পাঠ্যাংশ থেকে একটি প্রশ্ন তৈরি করুন: পরবর্তী দশ বছরে গণতান্ত্রিক দেশগুলোকে সর্বত্র গণতন্ত্র ছড়িয়ে দিতে হবে এবং সোবি সাম্রাজ্যের সঙ্গে যুদ্ধ বন্ধ করতে হবে, এটাই একমাত্র উপায়।                                                                                                                          1\n",
       "এই পাঠ্যাংশ থেকে একটি প্রশ্ন তৈরি করুন: ছোটনাগপুরের গিরিসংকট থেকে  আধ্যাত্মিকতার আলো\" রাজা মুরজের বাড়ি সুরজগড় (যা ছোটনাগপুর থেকে দূরে নয়) আমদানি বৃত্ত থেকে দূরে নয়।                                                                                                                                     1\n",
       "এই পাঠ্যাংশ থেকে একটি প্রশ্ন তৈরি করুন: যখন টাইমস ফারিয়ান সমাজের কার্থাকিয়ান, গেবিয়ানর এবং বিহারী বুদ্ধিজীবী সংগঠনের সদস্যরা এই চুক্তিটি গ্রহণ করে, এমনকি দ্য নিউ এজ*, যারা ফারিয়ানদের প্রতি সহানুভূতিশীল ছিল, তখন শ্রমিক নেতা ( ডিসেম্বর ৭, ১০১) এই নিষ্পত্তির পক্ষে তার মতামত প্রকাশ করতে বাধ্য হন।    1\n",
       "Name: count, Length: 101, dtype: int64"
      ]
     },
     "execution_count": 11,
     "metadata": {},
     "output_type": "execute_result"
    }
   ],
   "source": [
    "data['question'].value_counts()"
   ]
  },
  {
   "cell_type": "code",
   "execution_count": 12,
   "id": "df4ddf8f",
   "metadata": {},
   "outputs": [
    {
     "data": {
      "text/plain": [
       "0"
      ]
     },
     "execution_count": 12,
     "metadata": {},
     "output_type": "execute_result"
    }
   ],
   "source": [
    "data['question'].isnull().sum()"
   ]
  },
  {
   "cell_type": "code",
   "execution_count": 13,
   "id": "31d897d2",
   "metadata": {},
   "outputs": [
    {
     "data": {
      "text/plain": [
       "0"
      ]
     },
     "execution_count": 13,
     "metadata": {},
     "output_type": "execute_result"
    }
   ],
   "source": [
    "data['answer'].isnull().sum()"
   ]
  },
  {
   "cell_type": "code",
   "execution_count": 3,
   "id": "8b9c95ab",
   "metadata": {},
   "outputs": [
    {
     "data": {
      "text/html": [
       "<div>\n",
       "<style scoped>\n",
       "    .dataframe tbody tr th:only-of-type {\n",
       "        vertical-align: middle;\n",
       "    }\n",
       "\n",
       "    .dataframe tbody tr th {\n",
       "        vertical-align: top;\n",
       "    }\n",
       "\n",
       "    .dataframe thead th {\n",
       "        text-align: right;\n",
       "    }\n",
       "</style>\n",
       "<table border=\"1\" class=\"dataframe\">\n",
       "  <thead>\n",
       "    <tr style=\"text-align: right;\">\n",
       "      <th></th>\n",
       "      <th>type</th>\n",
       "      <th>content</th>\n",
       "      <th>title</th>\n",
       "      <th>context</th>\n",
       "      <th>label</th>\n",
       "      <th>class</th>\n",
       "    </tr>\n",
       "  </thead>\n",
       "  <tbody>\n",
       "    <tr>\n",
       "      <th>0</th>\n",
       "      <td>p</td>\n",
       "      <td>ঢাকার ইতিহাস।</td>\n",
       "      <td>ঢাকার ইতিহাস</td>\n",
       "      <td>ঢাকার ইতিহাস।</td>\n",
       "      <td>positive</td>\n",
       "      <td>history</td>\n",
       "    </tr>\n",
       "    <tr>\n",
       "      <th>1</th>\n",
       "      <td>p</td>\n",
       "      <td>ভিভীক্স শব? ( প্রাচীনকাল হইতে মোসলমানাগমনের পূ...</td>\n",
       "      <td>ভিভীক্স শব? ( প্রাচীনকাল হইতে মোসলমানাগমনের পূ...</td>\n",
       "      <td>ভিভীক্স শব? ( প্রাচীনকাল হইতে মোসলমানাগমনের পূ...</td>\n",
       "      <td>neutral</td>\n",
       "      <td>news</td>\n",
       "    </tr>\n",
       "    <tr>\n",
       "      <th>2</th>\n",
       "      <td>p</td>\n",
       "      <td>স্রীযতীন্দ্র মোহন রায় প্রণীত।</td>\n",
       "      <td>স্রীযতীন্দ্র মোহন রায় প্রণীত</td>\n",
       "      <td>স্রীযতীন্দ্র মোহন রায় প্রণীত।</td>\n",
       "      <td>positive</td>\n",
       "      <td>news</td>\n",
       "    </tr>\n",
       "    <tr>\n",
       "      <th>3</th>\n",
       "      <td>p</td>\n",
       "      <td>__কলিকাতাঁ_ ২৯৭ নং আগার চিৎপুর রোড হইতে শ্রীশশ...</td>\n",
       "      <td>__কলিকাতাঁ_ ২৯৭ নং আগার চিৎপুর রোড হইতে শ্রীশশ...</td>\n",
       "      <td>__কলিকাতাঁ_ ২৯৭ নং আগার চিৎপুর রোড হইতে শ্রীশশ...</td>\n",
       "      <td>positive</td>\n",
       "      <td>news</td>\n",
       "    </tr>\n",
       "    <tr>\n",
       "      <th>4</th>\n",
       "      <td>p</td>\n",
       "      <td>১৩২২ বঙ্গাব । ্রন্থকার়ের সর্বস্বত্ব সংরক্ষিত।...</td>\n",
       "      <td>১৩২২ বঙ্গাব</td>\n",
       "      <td>১৩২২ বঙ্গাব। ্রন্থকার়ের সর্বস্বত্ব সংরক্ষিত।</td>\n",
       "      <td>positive</td>\n",
       "      <td>news</td>\n",
       "    </tr>\n",
       "  </tbody>\n",
       "</table>\n",
       "</div>"
      ],
      "text/plain": [
       "  type                                            content  \\\n",
       "0    p                                      ঢাকার ইতিহাস।   \n",
       "1    p  ভিভীক্স শব? ( প্রাচীনকাল হইতে মোসলমানাগমনের পূ...   \n",
       "2    p                     স্রীযতীন্দ্র মোহন রায় প্রণীত।   \n",
       "3    p  __কলিকাতাঁ_ ২৯৭ নং আগার চিৎপুর রোড হইতে শ্রীশশ...   \n",
       "4    p  ১৩২২ বঙ্গাব । ্রন্থকার়ের সর্বস্বত্ব সংরক্ষিত।...   \n",
       "\n",
       "                                               title  \\\n",
       "0                                       ঢাকার ইতিহাস   \n",
       "1  ভিভীক্স শব? ( প্রাচীনকাল হইতে মোসলমানাগমনের পূ...   \n",
       "2                      স্রীযতীন্দ্র মোহন রায় প্রণীত   \n",
       "3  __কলিকাতাঁ_ ২৯৭ নং আগার চিৎপুর রোড হইতে শ্রীশশ...   \n",
       "4                                        ১৩২২ বঙ্গাব   \n",
       "\n",
       "                                             context     label    class  \n",
       "0                                      ঢাকার ইতিহাস।  positive  history  \n",
       "1  ভিভীক্স শব? ( প্রাচীনকাল হইতে মোসলমানাগমনের পূ...   neutral     news  \n",
       "2                     স্রীযতীন্দ্র মোহন রায় প্রণীত।  positive     news  \n",
       "3  __কলিকাতাঁ_ ২৯৭ নং আগার চিৎপুর রোড হইতে শ্রীশশ...  positive     news  \n",
       "4      ১৩২২ বঙ্গাব। ্রন্থকার়ের সর্বস্বত্ব সংরক্ষিত।  positive     news  "
      ]
     },
     "execution_count": 3,
     "metadata": {},
     "output_type": "execute_result"
    }
   ],
   "source": [
    "import pandas as pd\n",
    "\n",
    "fdata = pd.read_csv(\"final_data.csv\")\n",
    "\n",
    "fdata.head()"
   ]
  },
  {
   "cell_type": "code",
   "execution_count": 4,
   "id": "1ea64f1f",
   "metadata": {},
   "outputs": [
    {
     "data": {
      "text/plain": [
       "label\n",
       "negative    72297\n",
       "positive    50552\n",
       "neutral     22146\n",
       "Name: count, dtype: int64"
      ]
     },
     "execution_count": 4,
     "metadata": {},
     "output_type": "execute_result"
    }
   ],
   "source": [
    "fdata['label'].value_counts()"
   ]
  },
  {
   "cell_type": "code",
   "execution_count": 5,
   "id": "32b2d45a",
   "metadata": {},
   "outputs": [
    {
     "data": {
      "text/plain": [
       "class\n",
       "news          120093\n",
       "history        16438\n",
       "philosophy      6376\n",
       "text_book       1488\n",
       "story            600\n",
       "Name: count, dtype: int64"
      ]
     },
     "execution_count": 5,
     "metadata": {},
     "output_type": "execute_result"
    }
   ],
   "source": [
    "fdata['class'].value_counts()"
   ]
  },
  {
   "cell_type": "code",
   "execution_count": 6,
   "id": "d3c201fc",
   "metadata": {},
   "outputs": [
    {
     "data": {
      "text/html": [
       "<div>\n",
       "<style scoped>\n",
       "    .dataframe tbody tr th:only-of-type {\n",
       "        vertical-align: middle;\n",
       "    }\n",
       "\n",
       "    .dataframe tbody tr th {\n",
       "        vertical-align: top;\n",
       "    }\n",
       "\n",
       "    .dataframe thead th {\n",
       "        text-align: right;\n",
       "    }\n",
       "</style>\n",
       "<table border=\"1\" class=\"dataframe\">\n",
       "  <thead>\n",
       "    <tr style=\"text-align: right;\">\n",
       "      <th></th>\n",
       "      <th>type</th>\n",
       "      <th>content</th>\n",
       "      <th>title</th>\n",
       "      <th>context</th>\n",
       "      <th>label</th>\n",
       "      <th>class</th>\n",
       "    </tr>\n",
       "  </thead>\n",
       "  <tbody>\n",
       "    <tr>\n",
       "      <th>0</th>\n",
       "      <td>p</td>\n",
       "      <td>ঢাকার ইতিহাস।</td>\n",
       "      <td>ঢাকার ইতিহাস</td>\n",
       "      <td>ঢাকার ইতিহাস।</td>\n",
       "      <td>positive</td>\n",
       "      <td>history</td>\n",
       "    </tr>\n",
       "    <tr>\n",
       "      <th>1</th>\n",
       "      <td>p</td>\n",
       "      <td>ভিভীক্স শব? ( প্রাচীনকাল হইতে মোসলমানাগমনের পূ...</td>\n",
       "      <td>ভিভীক্স শব? ( প্রাচীনকাল হইতে মোসলমানাগমনের পূ...</td>\n",
       "      <td>ভিভীক্স শব? ( প্রাচীনকাল হইতে মোসলমানাগমনের পূ...</td>\n",
       "      <td>neutral</td>\n",
       "      <td>news</td>\n",
       "    </tr>\n",
       "    <tr>\n",
       "      <th>2</th>\n",
       "      <td>p</td>\n",
       "      <td>স্রীযতীন্দ্র মোহন রায় প্রণীত।</td>\n",
       "      <td>স্রীযতীন্দ্র মোহন রায় প্রণীত</td>\n",
       "      <td>স্রীযতীন্দ্র মোহন রায় প্রণীত।</td>\n",
       "      <td>positive</td>\n",
       "      <td>news</td>\n",
       "    </tr>\n",
       "    <tr>\n",
       "      <th>3</th>\n",
       "      <td>p</td>\n",
       "      <td>__কলিকাতাঁ_ ২৯৭ নং আগার চিৎপুর রোড হইতে শ্রীশশ...</td>\n",
       "      <td>__কলিকাতাঁ_ ২৯৭ নং আগার চিৎপুর রোড হইতে শ্রীশশ...</td>\n",
       "      <td>__কলিকাতাঁ_ ২৯৭ নং আগার চিৎপুর রোড হইতে শ্রীশশ...</td>\n",
       "      <td>positive</td>\n",
       "      <td>news</td>\n",
       "    </tr>\n",
       "    <tr>\n",
       "      <th>4</th>\n",
       "      <td>p</td>\n",
       "      <td>১৩২২ বঙ্গাব । ্রন্থকার়ের সর্বস্বত্ব সংরক্ষিত।...</td>\n",
       "      <td>১৩২২ বঙ্গাব</td>\n",
       "      <td>১৩২২ বঙ্গাব। ্রন্থকার়ের সর্বস্বত্ব সংরক্ষিত।</td>\n",
       "      <td>positive</td>\n",
       "      <td>news</td>\n",
       "    </tr>\n",
       "  </tbody>\n",
       "</table>\n",
       "</div>"
      ],
      "text/plain": [
       "  type                                            content  \\\n",
       "0    p                                      ঢাকার ইতিহাস।   \n",
       "1    p  ভিভীক্স শব? ( প্রাচীনকাল হইতে মোসলমানাগমনের পূ...   \n",
       "2    p                     স্রীযতীন্দ্র মোহন রায় প্রণীত।   \n",
       "3    p  __কলিকাতাঁ_ ২৯৭ নং আগার চিৎপুর রোড হইতে শ্রীশশ...   \n",
       "4    p  ১৩২২ বঙ্গাব । ্রন্থকার়ের সর্বস্বত্ব সংরক্ষিত।...   \n",
       "\n",
       "                                               title  \\\n",
       "0                                       ঢাকার ইতিহাস   \n",
       "1  ভিভীক্স শব? ( প্রাচীনকাল হইতে মোসলমানাগমনের পূ...   \n",
       "2                      স্রীযতীন্দ্র মোহন রায় প্রণীত   \n",
       "3  __কলিকাতাঁ_ ২৯৭ নং আগার চিৎপুর রোড হইতে শ্রীশশ...   \n",
       "4                                        ১৩২২ বঙ্গাব   \n",
       "\n",
       "                                             context     label    class  \n",
       "0                                      ঢাকার ইতিহাস।  positive  history  \n",
       "1  ভিভীক্স শব? ( প্রাচীনকাল হইতে মোসলমানাগমনের পূ...   neutral     news  \n",
       "2                     স্রীযতীন্দ্র মোহন রায় প্রণীত।  positive     news  \n",
       "3  __কলিকাতাঁ_ ২৯৭ নং আগার চিৎপুর রোড হইতে শ্রীশশ...  positive     news  \n",
       "4      ১৩২২ বঙ্গাব। ্রন্থকার়ের সর্বস্বত্ব সংরক্ষিত।  positive     news  "
      ]
     },
     "execution_count": 6,
     "metadata": {},
     "output_type": "execute_result"
    }
   ],
   "source": [
    "import pandas as pd\n",
    "\n",
    "fdata = pd.read_csv(\"filtered_dataset.csv\")\n",
    "\n",
    "fdata.head()"
   ]
  },
  {
   "cell_type": "code",
   "execution_count": 7,
   "id": "ef6ba49e",
   "metadata": {},
   "outputs": [],
   "source": [
    "import pandas as pd\n",
    "\n",
    "df = pd.read_json(\"muktijuddho_qa_alpaca.json\")"
   ]
  },
  {
   "cell_type": "code",
   "execution_count": 8,
   "id": "e56fee03",
   "metadata": {},
   "outputs": [],
   "source": [
    "df.to_csv(\"muktijuddho_qa_alpaca.csv\")"
   ]
  }
 ],
 "metadata": {
  "kernelspec": {
   "display_name": "resPy",
   "language": "python",
   "name": "python3"
  },
  "language_info": {
   "codemirror_mode": {
    "name": "ipython",
    "version": 3
   },
   "file_extension": ".py",
   "mimetype": "text/x-python",
   "name": "python",
   "nbconvert_exporter": "python",
   "pygments_lexer": "ipython3",
   "version": "3.11.11"
  }
 },
 "nbformat": 4,
 "nbformat_minor": 5
}
