{
 "cells": [
  {
   "cell_type": "code",
   "execution_count": 1,
   "id": "baf82a3b",
   "metadata": {},
   "outputs": [],
   "source": [
    "import pandas as pd\n",
    "\n",
    "df = pd.read_csv(\"merged.csv\")"
   ]
  },
  {
   "cell_type": "code",
   "execution_count": 2,
   "id": "5d0ab437",
   "metadata": {},
   "outputs": [
    {
     "data": {
      "text/plain": [
       "(7898, 5)"
      ]
     },
     "execution_count": 2,
     "metadata": {},
     "output_type": "execute_result"
    }
   ],
   "source": [
    "df.shape"
   ]
  },
  {
   "cell_type": "code",
   "execution_count": 3,
   "id": "828b90d7",
   "metadata": {},
   "outputs": [],
   "source": [
    "df = df.drop(columns=['id'])\n",
    "\n",
    "# Keep only the desired columns\n",
    "df = df[['type', 'content', 'question', 'answer']]\n",
    "\n",
    "# Drop rows where any of the required columns have missing (NaN or empty) values\n",
    "df = df.dropna(subset=['type', 'content', 'question', 'answer'])\n",
    "\n",
    "# Also remove rows where any field is just empty string or whitespace\n",
    "df = df[~df[['type', 'content', 'question', 'answer']].apply(lambda x: x.str.strip().eq('').any(), axis=1)]\n",
    "\n",
    "# Optional: Reset the index\n",
    "df = df.reset_index(drop=True)"
   ]
  },
  {
   "cell_type": "code",
   "execution_count": 4,
   "id": "e2a5a99a",
   "metadata": {},
   "outputs": [
    {
     "data": {
      "text/plain": [
       "(3417, 4)"
      ]
     },
     "execution_count": 4,
     "metadata": {},
     "output_type": "execute_result"
    }
   ],
   "source": [
    "df.shape"
   ]
  },
  {
   "cell_type": "code",
   "execution_count": 5,
   "id": "0f47d3df",
   "metadata": {},
   "outputs": [
    {
     "data": {
      "text/plain": [
       "type        0\n",
       "content     0\n",
       "question    0\n",
       "answer      0\n",
       "dtype: int64"
      ]
     },
     "execution_count": 5,
     "metadata": {},
     "output_type": "execute_result"
    }
   ],
   "source": [
    "df.isnull().sum()"
   ]
  },
  {
   "cell_type": "code",
   "execution_count": 6,
   "id": "54cbf985",
   "metadata": {},
   "outputs": [
    {
     "data": {
      "text/plain": [
       "0"
      ]
     },
     "execution_count": 6,
     "metadata": {},
     "output_type": "execute_result"
    }
   ],
   "source": [
    "df.duplicated().sum()"
   ]
  },
  {
   "cell_type": "code",
   "execution_count": 8,
   "id": "4383b854",
   "metadata": {},
   "outputs": [],
   "source": [
    "df.to_csv(\"click.csv\", index=False)"
   ]
  },
  {
   "cell_type": "code",
   "execution_count": 10,
   "id": "0aba81dd",
   "metadata": {},
   "outputs": [
    {
     "name": "stdout",
     "output_type": "stream",
     "text": [
      "✅ Total usable entries: 3363\n",
      "🚀 Saved preprocessed data to: qa_alpaca.json\n"
     ]
    }
   ],
   "source": [
    "import json\n",
    "\n",
    "def load_json(path):\n",
    "    with open(path, 'r', encoding='utf-8') as f:\n",
    "        return json.load(f)\n",
    "\n",
    "def save_json(data, path):\n",
    "    with open(path, 'w', encoding='utf-8') as f:\n",
    "        json.dump(data, f, ensure_ascii=False, indent=2)\n",
    "\n",
    "def preprocess_to_alpaca_format(data):\n",
    "    processed = []\n",
    "\n",
    "    for entry in data:\n",
    "        content = entry.get(\"content\", \"\").strip()\n",
    "        question = entry.get(\"question\", \"\").strip()\n",
    "        answer = entry.get(\"answer\", \"\").strip()\n",
    "\n",
    "        # Skip invalid entries\n",
    "        if not question or not answer or not content or answer == content or answer == question:\n",
    "            continue\n",
    "\n",
    "        alpaca_entry = {\n",
    "            \"instruction\": \"এই লেখাটির ভিত্তিতে প্রশ্নের উত্তর দাও।\",  # Instruction in Bengali\n",
    "            \"input\": f\"প্রশ্ন: {question}\\n\\nলেখা:\\n{content}\",\n",
    "            \"output\": answer\n",
    "        }\n",
    "\n",
    "        processed.append(alpaca_entry)\n",
    "\n",
    "    return processed\n",
    "\n",
    "def main():\n",
    "    input_path = \"merged_data.json\"   # Replace with your actual JSON path\n",
    "    output_path = \"qa_alpaca.json\"\n",
    "\n",
    "    raw_data = load_json(input_path)\n",
    "    processed_data = preprocess_to_alpaca_format(raw_data)\n",
    "\n",
    "    print(f\"✅ Total usable entries: {len(processed_data)}\")\n",
    "    save_json(processed_data, output_path)\n",
    "    print(f\"🚀 Saved preprocessed data to: {output_path}\")\n",
    "\n",
    "if __name__ == \"__main__\":\n",
    "    main()\n"
   ]
  },
  {
   "cell_type": "code",
   "execution_count": 11,
   "id": "017b957e",
   "metadata": {},
   "outputs": [
    {
     "name": "stdout",
     "output_type": "stream",
     "text": [
      "✅ Entries before cleaning: 3363\n",
      "🧹 Entries after cleaning: 3290\n",
      "🚀 Cleaned dataset saved to: qa_alpaca_cleaned.json\n"
     ]
    }
   ],
   "source": [
    "import json\n",
    "import re\n",
    "\n",
    "def load_json(path):\n",
    "    with open(path, 'r', encoding='utf-8') as f:\n",
    "        return json.load(f)\n",
    "\n",
    "def save_json(data, path):\n",
    "    with open(path, 'w', encoding='utf-8') as f:\n",
    "        json.dump(data, f, ensure_ascii=False, indent=2)\n",
    "\n",
    "def is_bengali(text):\n",
    "    \"\"\"Basic Bengali character check using Unicode range.\"\"\"\n",
    "    return any('\\u0980' <= char <= '\\u09FF' for char in text)\n",
    "\n",
    "def clean_text(text):\n",
    "    \"\"\"Removes extra whitespace, newlines, and unwanted characters.\"\"\"\n",
    "    text = re.sub(r'\\s+', ' ', text).strip()\n",
    "    return text\n",
    "\n",
    "def preprocess_denoise(data, min_len=5, max_len=1024):\n",
    "    cleaned = []\n",
    "\n",
    "    for entry in data:\n",
    "        instruction = clean_text(entry.get(\"instruction\", \"\"))\n",
    "        input_text = clean_text(entry.get(\"input\", \"\"))\n",
    "        output = clean_text(entry.get(\"output\", \"\"))\n",
    "\n",
    "        # Remove entries with missing fields\n",
    "        if not instruction or not input_text or not output:\n",
    "            continue\n",
    "\n",
    "        # Remove very short or overly long samples\n",
    "        if len(output.split()) < min_len or len(output.split()) > max_len:\n",
    "            continue\n",
    "\n",
    "        # Remove if output is part of input\n",
    "        if output in input_text:\n",
    "            continue\n",
    "\n",
    "        # Check if Bengali characters are present\n",
    "        if not is_bengali(output):\n",
    "            continue\n",
    "\n",
    "        cleaned.append({\n",
    "            \"instruction\": instruction,\n",
    "            \"input\": input_text,\n",
    "            \"output\": output\n",
    "        })\n",
    "\n",
    "    return cleaned\n",
    "\n",
    "def main():\n",
    "    input_path = \"qa_alpaca.json\"       # Your existing Alpaca JSON\n",
    "    output_path = \"qa_alpaca_cleaned.json\"\n",
    "\n",
    "    raw_data = load_json(input_path)\n",
    "    cleaned_data = preprocess_denoise(raw_data)\n",
    "\n",
    "    print(f\"✅ Entries before cleaning: {len(raw_data)}\")\n",
    "    print(f\"🧹 Entries after cleaning: {len(cleaned_data)}\")\n",
    "    \n",
    "    save_json(cleaned_data, output_path)\n",
    "    print(f\"🚀 Cleaned dataset saved to: {output_path}\")\n",
    "\n",
    "if __name__ == \"__main__\":\n",
    "    main()\n"
   ]
  }
 ],
 "metadata": {
  "kernelspec": {
   "display_name": "resPy",
   "language": "python",
   "name": "python3"
  },
  "language_info": {
   "codemirror_mode": {
    "name": "ipython",
    "version": 3
   },
   "file_extension": ".py",
   "mimetype": "text/x-python",
   "name": "python",
   "nbconvert_exporter": "python",
   "pygments_lexer": "ipython3",
   "version": "3.11.11"
  }
 },
 "nbformat": 4,
 "nbformat_minor": 5
}
