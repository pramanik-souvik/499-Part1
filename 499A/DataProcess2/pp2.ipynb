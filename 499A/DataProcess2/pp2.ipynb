{
 "cells": [
  {
   "cell_type": "code",
   "execution_count": 1,
   "id": "d9c909a8",
   "metadata": {},
   "outputs": [
    {
     "name": "stdout",
     "output_type": "stream",
     "text": [
      "class\n",
      "news       39546\n",
      "history     5557\n",
      "Name: count, dtype: int64\n"
     ]
    }
   ],
   "source": [
    "import pandas as pd\n",
    "\n",
    "df = pd.read_csv(\"fdata.csv\")\n",
    "\n",
    "# Keep only 'news' and 'history' rows\n",
    "df_filtered = df[df['class'].isin(['news', 'history'])]\n",
    "\n",
    "# Optional: Reset the index\n",
    "df_filtered = df_filtered.reset_index(drop=True)\n",
    "\n",
    "# View the result\n",
    "print(df_filtered['class'].value_counts())\n"
   ]
  },
  {
   "cell_type": "code",
   "execution_count": 2,
   "id": "5f74a706",
   "metadata": {},
   "outputs": [],
   "source": [
    "df_filtered.to_csv('final.csv', index=False)"
   ]
  }
 ],
 "metadata": {
  "kernelspec": {
   "display_name": "resPy",
   "language": "python",
   "name": "python3"
  },
  "language_info": {
   "codemirror_mode": {
    "name": "ipython",
    "version": 3
   },
   "file_extension": ".py",
   "mimetype": "text/x-python",
   "name": "python",
   "nbconvert_exporter": "python",
   "pygments_lexer": "ipython3",
   "version": "3.11.11"
  }
 },
 "nbformat": 4,
 "nbformat_minor": 5
}
